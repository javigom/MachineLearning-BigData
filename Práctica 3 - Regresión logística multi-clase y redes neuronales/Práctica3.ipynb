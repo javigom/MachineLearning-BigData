{
 "cells": [
  {
   "cell_type": "markdown",
   "metadata": {},
   "source": [
    "# Práctica 3: Regresión logística multi-clase y redes neuronales\n",
    "#### Realizado por Javier Gómez Moraleda y Unai Piris Ibañez"
   ]
  },
  {
   "cell_type": "markdown",
   "metadata": {},
   "source": [
    "## Parte 1 - Regresión logística multi-clase "
   ]
  },
  {
   "cell_type": "code",
   "execution_count": 20,
   "metadata": {},
   "outputs": [],
   "source": [
    "# Imports\n",
    "import numpy as np\n",
    "import matplotlib.pyplot as plt\n",
    "import scipy.optimize as opt\n",
    "from scipy.io import loadmat\n",
    "from sklearn.preprocessing import PolynomialFeatures"
   ]
  },
  {
   "cell_type": "markdown",
   "metadata": {},
   "source": [
    "### 1. Visualización de los datos"
   ]
  },
  {
   "cell_type": "code",
   "execution_count": 21,
   "metadata": {},
   "outputs": [],
   "source": [
    "# Carga del fichero\n",
    "data = loadmat ('ex3data1.mat')\n",
    "# Se pueden consultar las claves con data.keys()\n",
    "\n",
    "# Almacenamos los datos leídos en X, y\n",
    "X = data ['X'] # X es una matriz de 5000x400 donde cada fila representa una imagen de 20x20 píxeles\n",
    "y = data ['y'] # y es un vector de 5000x1 componentes con las etiquetas de los ejemplos de entrenamiento"
   ]
  },
  {
   "cell_type": "code",
   "execution_count": 22,
   "metadata": {},
   "outputs": [
    {
     "data": {
      "text/plain": [
       "(-0.5, 199.5, 19.5, -0.5)"
      ]
     },
     "execution_count": 22,
     "metadata": {},
     "output_type": "execute_result"
    },
    {
     "data": {
      "image/png": "[encoded data removed]",
      "text/plain": [
       "<Figure size 432x288 with 1 Axes>"
      ]
     },
     "metadata": {
      "needs_background": "light"
     },
     "output_type": "display_data"
    }
   ],
   "source": [
    "#Selecciona aleatoriamente 10 ejemplos y los pinta\n",
    "sample = np.random.choice(X.shape[0], 10)\n",
    "plt.imshow(X[sample, :].reshape( -1, 20).T)\n",
    "plt.axis('off')"
   ]
  },
  {
   "cell_type": "markdown",
   "metadata": {},
   "source": [
    "### 2. Clasificación de uno frente a todos"
   ]
  },
  {
   "cell_type": "code",
   "execution_count": 23,
   "metadata": {},
   "outputs": [],
   "source": [
    "# Calcula el valor de la función sigmoide\n",
    "def sigmoid(X):\n",
    "    z = 1/(1 + np.exp(-X))\n",
    "    return z"
   ]
  },
  {
   "cell_type": "code",
   "execution_count": 24,
   "metadata": {},
   "outputs": [],
   "source": [
    "# Calcula la función de coste regularizada\n",
    "def fun_coste_reg(thetas, X, Y, lam):\n",
    "    H = sigmoid(np.dot(X, thetas))\n",
    "    m = len(Y)\n",
    "    Term1 = np.matmul(Y, np.log(H))\n",
    "    Term2 = np.matmul((1 - Y), np.log(1 - H))\n",
    "    cost = (- np.sum(Term1 + Term2) / m)  + (lam / (2*m)) * np.sum(np.square(thetas))\n",
    "    \n",
    "    return cost"
   ]
  },
  {
   "cell_type": "code",
   "execution_count": 25,
   "metadata": {},
   "outputs": [],
   "source": [
    "# Calcula el gradiente\n",
    "def gradient_reg(thetas, X, Y, lam):\n",
    "    H = sigmoid(np.dot(X, thetas))\n",
    "    m = len(Y)\n",
    "    Dif = H - Y\n",
    "    grad = (np.matmul(Dif, X) / m)  + (lam / m) * thetas\n",
    "\n",
    "    return grad"
   ]
  },
  {
   "cell_type": "code",
   "execution_count": 40,
   "metadata": {},
   "outputs": [],
   "source": [
    "def oneVsAll(X, y, num_etiquetas, reg):\n",
    "    \n",
    "    ''' oneVsAll entrena varios clasificadores por regresión logística con término\n",
    "    de regularización 'reg' y devuelve el resultado en una matriz, donde\n",
    "    la fila i−ésima corresponde al clasificador de la etiqueta i−ésima '''\n",
    "    \n",
    "    # Número de columnas y filas\n",
    "    n = X.shape[1] # 400\n",
    "    m = len(y) # 5000\n",
    "    \n",
    "    y = (y - 1)\n",
    "        \n",
    "    y_onehot = np.zeros((m, num_etiquetas))\n",
    "    \n",
    "    for i in range(m):\n",
    "        y_onehot[i][y[i]] = 1\n",
    "        \n",
    "    all_thetas = np.zeros((num_etiquetas, n))\n",
    "    \n",
    "    for c in range(num_etiquetas):\n",
    "        theta_inicial = np.zeros(n)\n",
    "        result = opt.fmin_tnc(func=fun_coste_reg, x0=theta_inicial, fprime=gradient_reg, args=(X, y_onehot[:, c], reg))\n",
    "        all_thetas[c] = result[0]\n",
    "        \n",
    "    return all_thetas"
   ]
  },
  {
   "cell_type": "code",
   "execution_count": 44,
   "metadata": {},
   "outputs": [
    {
     "name": "stdout",
     "output_type": "stream",
     "text": [
      "(10, 400)\n"
     ]
    }
   ],
   "source": [
    "all_thetas = oneVsAll(X, y, 10, 0.1)\n",
    "print(all_thetas.shape)"
   ]
  },
  {
   "cell_type": "code",
   "execution_count": 61,
   "metadata": {},
   "outputs": [],
   "source": [
    "def prediccion(ejemplo, all_thetas):\n",
    "    resul = sigmoid(np.dot(all_thetas, ejemplo))\n",
    "    return np.argmax(resul)+1"
   ]
  },
  {
   "cell_type": "code",
   "execution_count": 73,
   "metadata": {},
   "outputs": [
    {
     "name": "stdout",
     "output_type": "stream",
     "text": [
      "Porcentaje de aciertos:  95.88\n"
     ]
    }
   ],
   "source": [
    "prediccion(X[599], all_thetas)\n",
    "predicciones = []\n",
    "\n",
    "for ejemplo in X:\n",
    "    predicciones.append(prediccion(ejemplo, all_thetas))\n",
    "\n",
    "aciertos = 0\n",
    "for i in range(len(predicciones)): \n",
    "    if (predicciones[i] == y[i]):\n",
    "        aciertos += 1\n",
    "        \n",
    "print(\"Porcentaje de aciertos: \", aciertos/len(predicciones)*100)\n"
   ]
  },
  {
   "cell_type": "markdown",
   "metadata": {},
   "source": [
    "## Parte 2 - Redes neuronales "
   ]
  },
  {
   "cell_type": "code",
   "execution_count": null,
   "metadata": {},
   "outputs": [],
   "source": []
  }
 ],
 "metadata": {
  "kernelspec": {
   "display_name": "Python 3",
   "language": "python",
   "name": "python3"
  },
  "language_info": {
   "codemirror_mode": {
    "name": "ipython",
    "version": 3
   },
   "file_extension": ".py",
   "mimetype": "text/x-python",
   "name": "python",
   "nbconvert_exporter": "python",
   "pygments_lexer": "ipython3",
   "version": "3.8.5"
  }
 },
 "nbformat": 4,
 "nbformat_minor": 5
}
