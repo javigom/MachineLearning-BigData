{
 "cells": [
  {
   "cell_type": "markdown",
   "metadata": {},
   "source": [
    "## Práctica 0: Introducción a Python\n",
    "### Cálculo de una integral definida mendiante el algoritmo de Monte Carlo\n",
    "\n",
    "#### Realizado por Javier Gómez Moraleda y Unai Piris Ibañez"
   ]
  },
  {
   "cell_type": "code",
   "execution_count": 6,
   "metadata": {},
   "outputs": [],
   "source": [
    "# Imports que vamos a utilizar\n",
    "import time\n",
    "import numpy as np\n",
    "import matplotlib.pyplot as plt\n",
    "import scipy.integrate as integrate"
   ]
  },
  {
   "cell_type": "code",
   "execution_count": 7,
   "metadata": {},
   "outputs": [],
   "source": [
    "# Función que devuelve el cuadrado\n",
    "def funcion_cuadrado(x):\n",
    "    return x*x"
   ]
  },
  {
   "cell_type": "code",
   "execution_count": 8,
   "metadata": {},
   "outputs": [],
   "source": [
    "# Si a = 1 y b = 3\n",
    "def funcion_parabola(x):\n",
    "    return (4*x - (x*x))"
   ]
  },
  {
   "cell_type": "code",
   "execution_count": 9,
   "metadata": {},
   "outputs": [],
   "source": [
    "# Función que devuelve el seno\n",
    "def funcion_seno(x):\n",
    "    return np.sin(x) "
   ]
  },
  {
   "cell_type": "markdown",
   "metadata": {},
   "source": [
    "### Versión iterativa\n",
    "Parámetros:\n",
    "- fun: función que queremos integrar\n",
    "- a y b: puntos para los que calculamos la integral\n",
    "- num_puntos: número de puntos aleatorios que se van a generar\n",
    "- pintar: booleano que indica si queremos o no pintar la gráfica con la función y los puntos"
   ]
  },
  {
   "cell_type": "code",
   "execution_count": 10,
   "metadata": {},
   "outputs": [],
   "source": [
    "# Versión iterativa\n",
    "\n",
    "def integra_mc(fun, a, b, num_puntos=10000, pintar=False):\n",
    "    \n",
    "    # Utilizando la función linspace, creamos num_puntos equidistantes entre a y b\n",
    "    eje_x = np.linspace(a, b, num_puntos)\n",
    "    \n",
    "    # Calculamos el valor de la función fun para dichos puntos\n",
    "    eje_y = fun(eje_x)\n",
    "    \n",
    "    # Calculamos los valores máximo y mínimo aproximados\n",
    "    max_f = max(eje_y)\n",
    "    min_f = min(eje_y)\n",
    "    \n",
    "    # Variable para guardar el número de puntos\n",
    "    debajo = 0\n",
    "    \n",
    "    # Listas con los puntos aleatorios (coordenadas x e y)\n",
    "    aleatorio_x = []\n",
    "    aleatorio_y = []\n",
    "    \n",
    "    for i in range(num_puntos):\n",
    "        \n",
    "        # Se genera un valor aleatorio entre a y b, que representa un valor del eje x\n",
    "        x = np.random.uniform(a, b)\n",
    "        \n",
    "        # Se genera un valor aleatorio entre el máximo y el mínimo, que representa un valor del eje y\n",
    "        y = np.random.uniform(min_f, max_f)\n",
    "        \n",
    "        # Guardamos el punto calculado\n",
    "        aleatorio_x.append(x)\n",
    "        aleatorio_y.append(y)\n",
    "        \n",
    "        # Si está debajo de la función, lo añadimos al contador\n",
    "        if(fun(x)) > y:\n",
    "            debajo += 1\n",
    "    \n",
    "    # Cáculo del valor de la integral\n",
    "    valor_integral = (debajo/num_puntos) * (b - a) * max_f\n",
    "    \n",
    "    # Para pintar la gráfica o no (si estamos midiendo puntos)\n",
    "    if(pintar):\n",
    "        plt.plot(eje_x, eje_y)\n",
    "        plt.scatter(aleatorio_x, aleatorio_y, color = 'red', marker = 'x')\n",
    "    \n",
    "    return valor_integral"
   ]
  },
  {
   "cell_type": "markdown",
   "metadata": {},
   "source": [
    "### Versión vectorizada\n",
    "\n",
    "Parámetros:\n",
    "- fun: función que queremos integrar\n",
    "- a y b: puntos para los que calculamos la integral\n",
    "- num_puntos: número de puntos aleatorios que se van a generar\n",
    "- pintar: booleano que indica si queremos o no pintar la gráfica con la función y los puntos"
   ]
  },
  {
   "cell_type": "code",
   "execution_count": 11,
   "metadata": {},
   "outputs": [],
   "source": [
    "# Versión vectorizada\n",
    "\n",
    "def integra_mc_fast(fun, a, b, num_puntos=10000, pintar=False):\n",
    "    \n",
    "    # Utilizando la función linspace, creamos num_puntos equidistantes entre a y b\n",
    "    eje_x = np.linspace(a, b, num_puntos)\n",
    "    \n",
    "    # Calculamos el valor de la función fun para dichos puntos\n",
    "    eje_y = fun(eje_x)\n",
    "    \n",
    "    # Calculamos los valores máximo y mínimo aproximados\n",
    "    max_f = np.max(eje_y)\n",
    "    min_f = np.min(eje_y)\n",
    "    \n",
    "    # Variable para guardar el número de puntos\n",
    "    debajo = 0\n",
    "    \n",
    "    # Cálculo de puntos aleatorios de forma vectorizada\n",
    "    aleatorio_x = np.random.uniform(a, b, num_puntos)\n",
    "    aleatorio_y = np.random.uniform(min_f, max_f, num_puntos)\n",
    "    \n",
    "    # Cálculo del número de puntos que hay debajo de forma vectorizada\n",
    "    debajo = np.sum(fun(aleatorio_x) > aleatorio_y)\n",
    "    \n",
    "    # Cáculo del valor de la integral\n",
    "    valor_integral = (debajo/num_puntos) * (b - a) * max_f\n",
    "    \n",
    "    # Para pintar la gráfica o no (si estamos midiendo puntos)\n",
    "    if(pintar):\n",
    "        plt.plot(eje_x, eje_y)\n",
    "        plt.scatter(aleatorio_x, aleatorio_y, color = 'red', marker = 'x')\n",
    "    \n",
    "    return valor_integral"
   ]
  },
  {
   "cell_type": "markdown",
   "metadata": {},
   "source": [
    "#### Ejemplo de funcionamiento para la función seno entre 0 y pi"
   ]
  },
  {
   "cell_type": "code",
   "execution_count": 12,
   "metadata": {},
   "outputs": [
    {
     "data": {
      "text/plain": [
       "(2.0, 2.220446049250313e-14)"
      ]
     },
     "execution_count": 12,
     "metadata": {},
     "output_type": "execute_result"
    }
   ],
   "source": [
    "# Cálculo utilizando bibliotecas\n",
    "integrate.quad(funcion_seno, 0, np.pi) "
   ]
  },
  {
   "cell_type": "code",
   "execution_count": 21,
   "metadata": {},
   "outputs": [
    {
     "data": {
      "text/plain": [
       "2.010366216969439"
      ]
     },
     "execution_count": 21,
     "metadata": {},
     "output_type": "execute_result"
    },
    {
     "data": {
      "image/png": "[encoded data removed]",
      "text/plain": [
       "<Figure size 432x288 with 1 Axes>"
      ]
     },
     "metadata": {
      "needs_background": "light"
     },
     "output_type": "display_data"
    }
   ],
   "source": [
    "# Cálculo versión iterativa\n",
    "integra_mc(funcion_seno, 0, np.pi, 100, True)"
   ]
  },
  {
   "cell_type": "code",
   "execution_count": 20,
   "metadata": {},
   "outputs": [
    {
     "data": {
      "text/plain": [
       "2.0731901612497343"
      ]
     },
     "execution_count": 20,
     "metadata": {},
     "output_type": "execute_result"
    },
    {
     "data": {
      "image/png": "[encoded data removed]",
      "text/plain": [
       "<Figure size 432x288 with 1 Axes>"
      ]
     },
     "metadata": {
      "needs_background": "light"
     },
     "output_type": "display_data"
    }
   ],
   "source": [
    "# Cálculo versión vectorizada\n",
    "integra_mc_fast(funcion_seno, 0, np.pi, 100, True)"
   ]
  },
  {
   "cell_type": "markdown",
   "metadata": {},
   "source": [
    "Como vemos, ambas versiónes nos devuelven un cálculo aproximado utilizando únicamente 100 puntos. Como depende de la aleatoriedad, es posible que en\n",
    "otras ejecuciones no sea tan acertado."
   ]
  },
  {
   "cell_type": "markdown",
   "metadata": {},
   "source": [
    "### Comparación de tiempos entre ambos métodos\n",
    "Parámetros:\n",
    "- fun: función que queremos integrar\n",
    "- a y b: puntos para los que calculamos la integral\n",
    "- puntos_ini y puntos_fin: rango de generación de puntos\n",
    "- num_calculos: número de pruebas que vamos a realizar"
   ]
  },
  {
   "cell_type": "code",
   "execution_count": 24,
   "metadata": {},
   "outputs": [],
   "source": [
    "# Comparamos los tiempos para integrar la función fun entre a y b\n",
    "def compara_tiempos_dot(fun, a, b, puntos_ini=100, puntos_fin=100000, num_calculos=20):\n",
    "    \n",
    "    # Generamos num_calculos tamaños distintos entre puntos_ini y puntos_fin puntos\n",
    "    sizes = np.linspace(puntos_ini, puntos_fin, num_calculos)\n",
    "    \n",
    "    # Listas donde guardamos los tiempos\n",
    "    times_dot = []\n",
    "    times_fast_dot = []\n",
    "    \n",
    "    for size in sizes:\n",
    "        \n",
    "        # Calculamos el tiempo de la versión iterativa\n",
    "        tic = time.process_time()\n",
    "        dot = integra_mc(fun, a, b, int(size))\n",
    "        toc = time.process_time()\n",
    "        times_dot += [1000 * (toc - tic)]\n",
    "        \n",
    "        # Calculamos el tiempo de la versión vectorizada\n",
    "        tic = time.process_time()\n",
    "        fast_dot = integra_mc_fast(fun, a, b, int (size))\n",
    "        toc = time.process_time()\n",
    "        times_fast_dot += [1000 * (toc - tic)]\n",
    "    \n",
    "    # Pintamos el resultado\n",
    "    plt.figure()\n",
    "    plt.scatter(sizes, times_dot, c='red', label='bucle')\n",
    "    plt.scatter(sizes, times_fast_dot, c='blue', label='vector')\n",
    "    plt.legend()\n",
    "    plt.savefig('compara tiempos dot.png')"
   ]
  },
  {
   "cell_type": "code",
   "execution_count": 25,
   "metadata": {},
   "outputs": [
    {
     "data": {
      "image/png": "[encoded data removed]",
      "text/plain": [
       "<Figure size 432x288 with 1 Axes>"
      ]
     },
     "metadata": {
      "needs_background": "light"
     },
     "output_type": "display_data"
    }
   ],
   "source": [
    "compara_tiempos_dot(funcion_seno, 0, np.pi)"
   ]
  },
  {
   "cell_type": "markdown",
   "metadata": {},
   "source": [
    "Probando desde 100 a 100000 puntos, mientras que en la versión iterativa utilizando un bucle si aumentas el número de elementos, aumenta el tiempo, en la versión vectorizada se mantiene claramente el tiempo. Habíamos considerado añadir más puntos, pero resulta evidente que con 100000 puntos, la versión del bucle es exponencial, mientras que la vectorizada es constante."
   ]
  }
 ],
 "metadata": {
  "kernelspec": {
   "display_name": "Python 3",
   "language": "python",
   "name": "python3"
  },
  "language_info": {
   "codemirror_mode": {
    "name": "ipython",
    "version": 3
   },
   "file_extension": ".py",
   "mimetype": "text/x-python",
   "name": "python",
   "nbconvert_exporter": "python",
   "pygments_lexer": "ipython3",
   "version": "3.8.5"
  }
 },
 "nbformat": 4,
 "nbformat_minor": 5
}
