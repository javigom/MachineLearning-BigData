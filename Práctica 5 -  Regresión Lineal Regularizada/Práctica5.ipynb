{
 "cells": [
  {
   "cell_type": "markdown",
   "metadata": {},
   "source": [
    "# Práctica 5 : Regresión lineal regularizada: sesgo y varianza\n",
    "#### Realizado por Javier Gómez Moraleda y Unai Piris Ibañez"
   ]
  },
  {
   "cell_type": "code",
   "execution_count": 1,
   "metadata": {},
   "outputs": [],
   "source": [
    "# Imports\n",
    "import numpy as np\n",
    "import matplotlib.pyplot as plt\n",
    "import scipy.optimize as opt\n",
    "from scipy.io import loadmat\n",
    "from sklearn.preprocessing import PolynomialFeatures\n",
    "from sklearn.preprocessing import StandardScaler"
   ]
  },
  {
   "cell_type": "code",
   "execution_count": 2,
   "metadata": {},
   "outputs": [],
   "source": [
    "# Cargamos el fichero de datos\n",
    "data = loadmat('data/ex5data1.mat')\n",
    "\n",
    "# Datos de entrenamiento (12, 1)\n",
    "X = data['X']\n",
    "y = data['y'].ravel()\n",
    "\n",
    "# Ejemplos de validación (21, 1)\n",
    "Xval = data['Xval'] \n",
    "yval = data['yval'].ravel()\n",
    "\n",
    "# Ejemplos de prueba (21, 1)\n",
    "Xtest = data['Xtest']\n",
    "ytest = data['ytest'].ravel()"
   ]
  },
  {
   "cell_type": "markdown",
   "metadata": {},
   "source": [
    "## Parte 1 - Regresión lineal regularizada"
   ]
  },
  {
   "cell_type": "code",
   "execution_count": 3,
   "metadata": {},
   "outputs": [],
   "source": [
    "# Cálculo del coste regularizado\n",
    "def cost_reg(Thetas, X, y, lam):\n",
    "    \n",
    "    # Número de filas\n",
    "    m = np.shape(X)[0]\n",
    "    \n",
    "    # Hipótesis\n",
    "    H = np.dot(X, Thetas)\n",
    "    \n",
    "    # Coste + regularización\n",
    "    Term1 = (1 / (2*m)) * np.sum(np.square((H - y)))\n",
    "    Term2 = (lam / (2*m)) * np.sum(np.square(Thetas[1:]))\n",
    "    \n",
    "    return Term1 + Term2"
   ]
  },
  {
   "cell_type": "code",
   "execution_count": 4,
   "metadata": {},
   "outputs": [],
   "source": [
    "# Calcula el gradiente regularizado\n",
    "def gradient_reg(Thetas, X, y, lam):\n",
    "    \n",
    "    # Número de filas\n",
    "    m = np.shape(X)[0]\n",
    "\n",
    "    # Hipótesis\n",
    "    H = np.dot(X, Thetas)\n",
    "    \n",
    "    # Gradiente + regularización\n",
    "    result = (1 / m) * np.matmul(H - y, X)\n",
    "    result[1:] += (lam / (m)) * np.sum(Thetas[1:])\n",
    "\n",
    "    return result"
   ]
  },
  {
   "cell_type": "code",
   "execution_count": 5,
   "metadata": {},
   "outputs": [],
   "source": [
    "# Función para pintar la gráfica\n",
    "def draw_graph(X, y, Z1, Z2):\n",
    "    plt.figure()\n",
    "    plt.xlabel(\"Change in water level (X)\")\n",
    "    plt.ylabel(\"Water flowing out of the dam (y)\")\n",
    "    \n",
    "    # Datos de entrenamiento\n",
    "    plt.plot(X, y, \"x\", color=\"red\")\n",
    "    # Funcion generada\n",
    "    plt.plot(Z1, np.dot(Z2, result[0]), color=\"blue\")"
   ]
  },
  {
   "cell_type": "markdown",
   "metadata": {},
   "source": [
    "### Observando resultados\n",
    "Vamos a probar si realiza el cálculo del coste y el gradiente de forma correcta. para ello vamos a inicializar el parámetro de regularización y el vector de Thetas a 1."
   ]
  },
  {
   "cell_type": "code",
   "execution_count": 6,
   "metadata": {},
   "outputs": [],
   "source": [
    "# Inicialización de variables\n",
    "lam = 1\n",
    "Thetas = np.ones(np.shape(X)[1] + 1)\n",
    "X_1 = np.hstack([np.ones([np.shape(X)[0], 1]), X])"
   ]
  },
  {
   "cell_type": "code",
   "execution_count": 7,
   "metadata": {},
   "outputs": [
    {
     "name": "stdout",
     "output_type": "stream",
     "text": [
      "Coste para lambda= 1 y Thetas= [1. 1.] :  303.9931922202643\n"
     ]
    }
   ],
   "source": [
    "# El coste debería salir 303,993\n",
    "coste = cost_reg(Thetas, X_1, y, lam)\n",
    "print(\"Coste para lambda=\", lam, \"y Thetas=\", Thetas, \": \", coste)"
   ]
  },
  {
   "cell_type": "code",
   "execution_count": 8,
   "metadata": {},
   "outputs": [
    {
     "name": "stdout",
     "output_type": "stream",
     "text": [
      "Gradiente para lambda= 1 y Thetas= [1. 1.] :  [-15.30301567 598.25074417]\n"
     ]
    }
   ],
   "source": [
    "# El gradiente debería salir [−15,303; 598,250]\n",
    "gradiente = gradient_reg(Thetas, X_1, y, lam)\n",
    "print(\"Gradiente para lambda=\", lam, \"y Thetas=\", Thetas, \": \", gradiente)"
   ]
  },
  {
   "cell_type": "markdown",
   "metadata": {},
   "source": [
    "### Valor óptimo de Thetas\n",
    "Vamos a buscar el valor óptimo que minimiza el error sobre los ejemplos de entrenamiento. Vamos a fijar el valor de lambda a 0 porque teneos pocos parámetros."
   ]
  },
  {
   "cell_type": "code",
   "execution_count": 9,
   "metadata": {},
   "outputs": [],
   "source": [
    "# Obtenemos resultados óptimos\n",
    "result = opt.fmin_tnc(func=cost_reg, x0=Thetas, fprime=gradient_reg, args=(X_1, y, 0))"
   ]
  },
  {
   "cell_type": "code",
   "execution_count": 10,
   "metadata": {},
   "outputs": [
    {
     "data": {
      "image/png": "[encoded data removed]",
      "text/plain": [
       "<Figure size 432x288 with 1 Axes>"
      ]
     },
     "metadata": {
      "needs_background": "light"
     },
     "output_type": "display_data"
    }
   ],
   "source": [
    "# Pintado de las gráficas\n",
    "draw_graph(X, y, X, X_1)"
   ]
  },
  {
   "cell_type": "markdown",
   "metadata": {},
   "source": [
    "## Parte 2 - Curvas de aprendizaje"
   ]
  },
  {
   "cell_type": "markdown",
   "metadata": {},
   "source": [
    "Ahora vamos a identificar situaciones de sesgo y varianza. Para ello vamos a repetir el entrenamiento pero con subconjuntos de datos de entrenamiento. "
   ]
  },
  {
   "cell_type": "code",
   "execution_count": 11,
   "metadata": {},
   "outputs": [],
   "source": [
    "# Función que devuelve el coste y el gradiente\n",
    "def cost_and_gradient(Thetas, X, y, lam):\n",
    "    coste = cost_reg(Thetas, X, y, lam)\n",
    "    gradiente = gradient_reg(Thetas, X, y, lam)\n",
    "    return coste, gradiente"
   ]
  },
  {
   "cell_type": "code",
   "execution_count": 12,
   "metadata": {},
   "outputs": [],
   "source": [
    "# Función que calcula la curva de aprendizaje\n",
    "def learning_curve(X, y, Xval, yval, lam):\n",
    "    \n",
    "    Thetas = np.zeros(np.shape(X)[1])\n",
    "    \n",
    "    # Arrays de errores \n",
    "    erroresX = np.zeros((X.shape[0],))\n",
    "    erroresXval = np.zeros((X.shape[0],))\n",
    "    \n",
    "    # Cálculo del error para distinta cantidad de datos de entrenamiento\n",
    "    for i in range(X.shape[0]):\n",
    "        ejemplaresX = X[0:i+1]\n",
    "        ejemplaresy = y[0:i+1]\n",
    "        \n",
    "        #result = opt.fmin_tnc(func=cost_reg, x0=Thetas, fprime=gradient_reg, args=(ejemplaresX, ejemplaresy, lam))[0]\n",
    "        result = opt.minimize(fun=cost_and_gradient, x0=Thetas, \n",
    "                              args=(ejemplaresX, ejemplaresy, lam), \n",
    "                              method='TNC', jac=True, options ={'maxiter': 2000})['x']\n",
    "        \n",
    "        erroresX[i] = cost_reg(result, ejemplaresX, ejemplaresy, lam)\n",
    "        erroresXval[i] = cost_reg(result, Xval, yval, lam)\n",
    "    \n",
    "    return erroresX, erroresXval"
   ]
  },
  {
   "cell_type": "code",
   "execution_count": 13,
   "metadata": {},
   "outputs": [],
   "source": [
    "# Función que dibuja la curva de aprendizaje\n",
    "def draw_curve_graph(X, erroresX, erroresXval):\n",
    "    ejeX = range(1, X.shape[0]+1)\n",
    "    plt.figure()\n",
    "    plt.plot(ejeX, erroresX, 'b', label = \"Entrenamiento\")\n",
    "    plt.plot(ejeX, erroresXval, 'orange', label = \"Validacion\")\n",
    "    plt.xlabel(\"Cantidad de ejemplos de entrenamiento\")\n",
    "    plt.ylabel(\"Error\")\n",
    "    plt.legend(loc = 0)\n",
    "    plt.show()"
   ]
  },
  {
   "cell_type": "markdown",
   "metadata": {},
   "source": [
    "### Observando resultados"
   ]
  },
  {
   "cell_type": "markdown",
   "metadata": {},
   "source": [
    "Como podemos observar, con pocos ejemplos de entrenamiento, el error del conjunto de entrenamiento es 0, pero el de validación es muy alto. Sin embargo, a medida que vamos subiendo el número de ejemplos, el error de los ejemplos de validación baja."
   ]
  },
  {
   "cell_type": "code",
   "execution_count": 14,
   "metadata": {
    "scrolled": true
   },
   "outputs": [
    {
     "data": {
      "image/png": "[encoded data removed]",
      "text/plain": [
       "<Figure size 432x288 with 1 Axes>"
      ]
     },
     "metadata": {
      "needs_background": "light"
     },
     "output_type": "display_data"
    }
   ],
   "source": [
    "# Se añade una columna de 1's sobre los ejemplos de validación\n",
    "Xval_1 = np.hstack([np.ones([np.shape(Xval)[0], 1]), Xval])\n",
    "\n",
    "# Cálculo de errores\n",
    "erroresX, erroresXval = learning_curve(X_1, y, Xval_1, yval, 0)\n",
    "\n",
    "# Pintado de gráficas\n",
    "draw_curve_graph(X, erroresX, erroresXval)"
   ]
  },
  {
   "cell_type": "markdown",
   "metadata": {},
   "source": [
    "## Parte 3 - Regresion polinomial"
   ]
  },
  {
   "cell_type": "markdown",
   "metadata": {},
   "source": [
    "Para que nuestro modelo se ajuste con mejor precisión a los datos, vamos a generar nuevos datos de entrenamiento sobre los datos originales. Esto se consigue realizando operaciones polinómicas sobre los datos, aunque hay que ser consciente de que habrá diferencias de rango, por lo que también debemos normalizar."
   ]
  },
  {
   "cell_type": "code",
   "execution_count": 15,
   "metadata": {},
   "outputs": [],
   "source": [
    "# Genera el polinomio\n",
    "def make_data(X, grado):\n",
    "    poly = PolynomialFeatures(grado)\n",
    "    X = poly.fit_transform(X)\n",
    "    return X"
   ]
  },
  {
   "cell_type": "code",
   "execution_count": 16,
   "metadata": {},
   "outputs": [],
   "source": [
    "# Normalización con StandardScaler\n",
    "def normalizar(X):\n",
    "    Scaler = StandardScaler()\n",
    "    X = Scaler.fit_transform(X)\n",
    "    mu = Scaler.mean_\n",
    "    sigma = Scaler.scale_\n",
    "    return X, mu, sigma"
   ]
  },
  {
   "cell_type": "markdown",
   "metadata": {},
   "source": [
    "### Observando resultados"
   ]
  },
  {
   "cell_type": "code",
   "execution_count": 17,
   "metadata": {},
   "outputs": [],
   "source": [
    "# Inicialización de los datos\n",
    "X_poly = make_data(X, 8)\n",
    "X_poly[:, 1:], mu, sigma = normalizar(X_poly[:, 1:])\n",
    "Thetas = np.ones(X_poly.shape[1])\n",
    "\n",
    "# Regresión lineal\n",
    "result = opt.fmin_tnc(func=cost_reg, x0=Thetas, fprime=gradient_reg, args=(X_poly, y, 0))"
   ]
  },
  {
   "cell_type": "code",
   "execution_count": 18,
   "metadata": {},
   "outputs": [],
   "source": [
    "# Predicciones sobre nuevos valores de x\n",
    "X_evaluate = np.arange(X.min() - 4, X.max() + 4, 0.05)\n",
    "X_evaluate = X_evaluate.reshape(-1, 1)\n",
    "X_evaluate_poly = make_data(X_evaluate, 8)\n",
    "X_evaluate_poly[:, 1:] = (X_evaluate_poly[:, 1:] - mu)/sigma"
   ]
  },
  {
   "cell_type": "code",
   "execution_count": 19,
   "metadata": {},
   "outputs": [
    {
     "data": {
      "image/png": "[encoded data removed]",
      "text/plain": [
       "<Figure size 432x288 with 1 Axes>"
      ]
     },
     "metadata": {
      "needs_background": "light"
     },
     "output_type": "display_data"
    }
   ],
   "source": [
    "# Pintado de las gráficas\n",
    "draw_graph(X, y, X_evaluate, X_evaluate_poly)"
   ]
  },
  {
   "cell_type": "markdown",
   "metadata": {},
   "source": [
    "### Curvas de aprendizaje"
   ]
  },
  {
   "cell_type": "code",
   "execution_count": 20,
   "metadata": {},
   "outputs": [],
   "source": [
    "# Normalizamos en función de mu y sigma anteriores\n",
    "Xval_poly = make_data(Xval, 8)\n",
    "Xval_poly[:, 1:] = (Xval_poly[:, 1:] - mu)/sigma"
   ]
  },
  {
   "cell_type": "code",
   "execution_count": 21,
   "metadata": {},
   "outputs": [
    {
     "data": {
      "image/png": "[encoded data removed]",
      "text/plain": [
       "<Figure size 432x288 with 1 Axes>"
      ]
     },
     "metadata": {
      "needs_background": "light"
     },
     "output_type": "display_data"
    }
   ],
   "source": [
    "# Curva de aprendizaje para lambda = 0\n",
    "lam = 0\n",
    "\n",
    "# Cálculo de errores\n",
    "erroresX, erroresXval = learning_curve(X_poly, y, Xval_poly, yval, lam)\n",
    "\n",
    "# Pintado de gráficas\n",
    "draw_curve_graph(X, erroresX, erroresXval)"
   ]
  },
  {
   "cell_type": "code",
   "execution_count": 22,
   "metadata": {},
   "outputs": [
    {
     "data": {
      "image/png": "[encoded data removed]",
      "text/plain": [
       "<Figure size 432x288 with 1 Axes>"
      ]
     },
     "metadata": {
      "needs_background": "light"
     },
     "output_type": "display_data"
    }
   ],
   "source": [
    "# Curva de aprendizaje para lambda = 100\n",
    "lam = 100 \n",
    "\n",
    "# Cálculo de errores\n",
    "erroresX, erroresXval = learning_curve(X_poly, y, Xval_poly, yval, lam)\n",
    "\n",
    "# Pintado de gráficas\n",
    "draw_curve_graph(X, erroresX, erroresXval)"
   ]
  },
  {
   "cell_type": "markdown",
   "metadata": {},
   "source": [
    "## Parte 4 - Selección del parámetro λ"
   ]
  },
  {
   "cell_type": "markdown",
   "metadata": {},
   "source": [
    "Vamos a calcular cual es el mejor valor posible para . Para ello, vamos a generar distintos valores del parámetro, entrenaremos el modelo sonbre un conjunto de valores y lo evaluaremos sobre un conjunto de ejemplos de validación."
   ]
  },
  {
   "cell_type": "code",
   "execution_count": 27,
   "metadata": {},
   "outputs": [],
   "source": [
    "# Función que evalua la hipótesis sobre distintos valores de lambda \n",
    "def lambda_evaluation(X, y, Xval, yval, p, lambdas):\n",
    "    \n",
    "    # Arrays de errores \n",
    "    erroresX = np.zeros((len(lambdas),))\n",
    "    erroresXval = np.zeros((len(lambdas),))\n",
    "\n",
    "    # Array de thetas\n",
    "    thetas = np.zeros(p+1)\n",
    "\n",
    "    # Entrenamiento\n",
    "    for i, l in enumerate(lambdas):  \n",
    "        result = opt.minimize(fun=cost_reg, x0=thetas, args=(X, y, l))['x']\n",
    "        erroresX[i] = cost_reg(result, X, y, 0)\n",
    "        erroresXval[i] = cost_reg(result, Xval, yval, 0)\n",
    "        print(\"Lambda: \", l, \"\\t ErrorTrain: \", erroresX[i], \"\\t ErrorVal: \", erroresXval[i])\n",
    "    \n",
    "    return erroresX, erroresXval"
   ]
  },
  {
   "cell_type": "code",
   "execution_count": 28,
   "metadata": {},
   "outputs": [],
   "source": [
    "# Función que dibuja la gráfica\n",
    "def draw_lambda_graph(lambdas, erroresX, erroresXVal):\n",
    "    plt.figure()\n",
    "    plt.plot(np.ravel(lambdas), erroresX, 'b', label = \"Entrenamiento\")\n",
    "    plt.plot(np.ravel(lambdas), erroresXVal, 'orange', label = \"Validacion\")\n",
    "    plt.xlabel(\"λ\")\n",
    "    plt.ylabel(\"Error\")\n",
    "    plt.legend(loc = 0)\n",
    "    plt.show()"
   ]
  },
  {
   "cell_type": "markdown",
   "metadata": {},
   "source": [
    "### Observando resultados"
   ]
  },
  {
   "cell_type": "code",
   "execution_count": 29,
   "metadata": {},
   "outputs": [
    {
     "name": "stdout",
     "output_type": "stream",
     "text": [
      "Lambda:  0 \t ErrorTrain:  0.02889052005433446 \t ErrorVal:  54.09138292223895\n",
      "Lambda:  0.001 \t ErrorTrain:  0.10797940331958822 \t ErrorVal:  9.35818845158914\n",
      "Lambda:  0.003 \t ErrorTrain:  0.16678838641659088 \t ErrorVal:  15.919311669751588\n",
      "Lambda:  0.01 \t ErrorTrain:  0.21795185762073532 \t ErrorVal:  17.148918726205842\n",
      "Lambda:  0.03 \t ErrorTrain:  0.27515037572455164 \t ErrorVal:  13.215396787664462\n",
      "Lambda:  0.1 \t ErrorTrain:  0.4386584089419957 \t ErrorVal:  7.9263867825831165\n",
      "Lambda:  0.3 \t ErrorTrain:  0.8681677982172851 \t ErrorVal:  4.760823382309178\n",
      "Lambda:  1 \t ErrorTrain:  1.9586901971292128 \t ErrorVal:  4.263355872696739\n",
      "Lambda:  3 \t ErrorTrain:  4.525106777836854 \t ErrorVal:  3.8321766807381152\n",
      "Lambda:  10 \t ErrorTrain:  14.82577683208397 \t ErrorVal:  8.889695910207056\n"
     ]
    }
   ],
   "source": [
    "# Inicialización de p y lambdas\n",
    "p = 8\n",
    "lambdas = [0, 0.001, 0.003, 0.01, 0.03, 0.1, 0.3, 1, 3, 10]\n",
    "\n",
    "# Inicialización de los datos\n",
    "X_poly = make_data(X, p)\n",
    "X_poly[:, 1:], mu, sigma = normalizar(X_poly[:, 1:])\n",
    "\n",
    "# Normalizamos en función de mu y sigma anteriores\n",
    "Xval_poly = make_data(Xval, p)\n",
    "Xval_poly[:, 1:] = (Xval_poly[:, 1:] - mu)/sigma\n",
    "\n",
    "# Cálculo del error\n",
    "erroresX, erroresXval = lambda_evaluation(X_poly, y, Xval_poly, yval, 8, lambdas)"
   ]
  },
  {
   "cell_type": "code",
   "execution_count": 30,
   "metadata": {},
   "outputs": [
    {
     "data": {
      "image/png": "[encoded data removed]",
      "text/plain": [
       "<Figure size 432x288 with 1 Axes>"
      ]
     },
     "metadata": {
      "needs_background": "light"
     },
     "output_type": "display_data"
    }
   ],
   "source": [
    "# Pintado de la gráfica\n",
    "draw_lambda_graph(lambdas, erroresX, erroresXval)"
   ]
  },
  {
   "cell_type": "markdown",
   "metadata": {},
   "source": [
    "El mejor valor de λ parece ser 3. Ahora vamos a estimar el error sobre un conjunto de ejemplos que no hayamos utilizado ni para entrenar, ni para seleccionar λ."
   ]
  },
  {
   "cell_type": "code",
   "execution_count": 36,
   "metadata": {},
   "outputs": [
    {
     "name": "stdout",
     "output_type": "stream",
     "text": [
      "Lambda: 3\t ErrorTest:  3.572027276614662\n"
     ]
    }
   ],
   "source": [
    "# Normalizamos en función de mu y sigma anteriores\n",
    "Xtest_poly = make_data(Xtest, p)\n",
    "Xtest_poly[:, 1:] = (Xtest_poly[:, 1:] - mu)/sigma\n",
    "\n",
    "# Entrenamiento\n",
    "thetas = np.zeros(p+1)\n",
    "result = opt.minimize(fun=cost_reg, x0=thetas, args=(X_poly, y, 3))['x']\n",
    "\n",
    "# Resultado (debe salir 3,572)\n",
    "print(\"Lambda: 3\\t\", \"ErrorTest: \", cost_reg(result, Xtest_poly, ytest, 0))"
   ]
  }
 ],
 "metadata": {
  "kernelspec": {
   "display_name": "Python 3",
   "language": "python",
   "name": "python3"
  },
  "language_info": {
   "codemirror_mode": {
    "name": "ipython",
    "version": 3
   },
   "file_extension": ".py",
   "mimetype": "text/x-python",
   "name": "python",
   "nbconvert_exporter": "python",
   "pygments_lexer": "ipython3",
   "version": "3.8.5"
  }
 },
 "nbformat": 4,
 "nbformat_minor": 4
}
