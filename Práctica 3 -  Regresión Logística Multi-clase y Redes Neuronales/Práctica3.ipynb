{
 "cells": [
  {
   "cell_type": "markdown",
   "metadata": {},
   "source": [
    "# Práctica 3: Regresión logística multi-clase y redes neuronales\n",
    "#### Realizado por Javier Gómez Moraleda y Unai Piris Ibañez"
   ]
  },
  {
   "cell_type": "markdown",
   "metadata": {},
   "source": [
    "## Parte 1 - Regresión logística multi-clase "
   ]
  },
  {
   "cell_type": "code",
   "execution_count": 1,
   "metadata": {},
   "outputs": [],
   "source": [
    "# Imports\n",
    "import numpy as np\n",
    "import matplotlib.pyplot as plt\n",
    "import scipy.optimize as opt\n",
    "from scipy.io import loadmat\n",
    "from sklearn.preprocessing import PolynomialFeatures"
   ]
  },
  {
   "cell_type": "markdown",
   "metadata": {},
   "source": [
    "### Visualización de los datos"
   ]
  },
  {
   "cell_type": "code",
   "execution_count": 2,
   "metadata": {},
   "outputs": [],
   "source": [
    "# Carga del fichero\n",
    "data = loadmat ('ex3data1.mat')\n",
    "# Se pueden consultar las claves con data.keys()\n",
    "\n",
    "# Almacenamos los datos leídos en X, y\n",
    "X = data ['X'] # X es una matriz de 5000x400 donde cada fila representa una imagen de 20x20 píxeles\n",
    "y = data ['y'] # y es un vector de 5000x1 componentes con las etiquetas de los ejemplos de entrenamiento"
   ]
  },
  {
   "cell_type": "code",
   "execution_count": 3,
   "metadata": {},
   "outputs": [
    {
     "data": {
      "text/plain": [
       "(-0.5, 199.5, 19.5, -0.5)"
      ]
     },
     "execution_count": 3,
     "metadata": {},
     "output_type": "execute_result"
    },
    {
     "data": {
      "image/png": "[encoded data removed]",
      "text/plain": [
       "<Figure size 432x288 with 1 Axes>"
      ]
     },
     "metadata": {
      "needs_background": "light"
     },
     "output_type": "display_data"
    }
   ],
   "source": [
    "#Selecciona aleatoriamente 10 ejemplos y los pinta\n",
    "sample = np.random.choice(X.shape[0], 10)\n",
    "plt.imshow(X[sample, :].reshape( -1, 20).T)\n",
    "plt.axis('off')"
   ]
  },
  {
   "cell_type": "markdown",
   "metadata": {},
   "source": [
    "### Clasificación de uno frente a todos"
   ]
  },
  {
   "cell_type": "code",
   "execution_count": 4,
   "metadata": {},
   "outputs": [],
   "source": [
    "# Calcula el valor de la función sigmoide\n",
    "def sigmoid(X):\n",
    "    z = 1/(1 + np.exp(-X))\n",
    "    return z"
   ]
  },
  {
   "cell_type": "code",
   "execution_count": 5,
   "metadata": {},
   "outputs": [],
   "source": [
    "# Calcula la función de coste regularizada\n",
    "def fun_coste_reg(thetas, X, Y, lam):\n",
    "    H = sigmoid(np.dot(X, thetas))\n",
    "    m = len(Y)\n",
    "    Term1 = np.matmul(Y, np.log(H))\n",
    "    Term2 = np.matmul((1 - Y), np.log(1 - H))\n",
    "    cost = (- np.sum(Term1 + Term2) / m)  + (lam / (2*m)) * np.sum(np.square(thetas))\n",
    "    \n",
    "    return cost"
   ]
  },
  {
   "cell_type": "code",
   "execution_count": 6,
   "metadata": {},
   "outputs": [],
   "source": [
    "# Calcula el gradiente\n",
    "def gradient_reg(thetas, X, Y, lam):\n",
    "    H = sigmoid(np.dot(X, thetas))\n",
    "    m = len(Y)\n",
    "    Dif = H - Y\n",
    "    grad = (np.matmul(Dif, X) / m)  + (lam / m) * thetas\n",
    "\n",
    "    return grad"
   ]
  },
  {
   "cell_type": "code",
   "execution_count": 7,
   "metadata": {},
   "outputs": [],
   "source": [
    "# Clasificador\n",
    "def oneVsAll(X, y, num_etiquetas, reg):\n",
    "    \n",
    "    ''' oneVsAll entrena varios clasificadores por regresión logística con término\n",
    "    de regularización 'reg' y devuelve el resultado en una matriz, donde\n",
    "    la fila i−ésima corresponde al clasificador de la etiqueta i−ésima '''\n",
    "    \n",
    "    # Número de columnas y filas\n",
    "    n = X.shape[1] # 400\n",
    "    m = len(y) # 5000\n",
    "    \n",
    "    # Predicciones de 0 a 9\n",
    "    y = (y - 1)\n",
    "    \n",
    "    # Matriz de m ejemplos x num_etiquetas columnas\n",
    "    y_onehot = np.zeros((m, num_etiquetas))\n",
    "    \n",
    "    # Le asigno el valor 1 si pertenece a la clase i-ésima\n",
    "    for i in range(m):\n",
    "        y_onehot[i][y[i]] = 1\n",
    "    \n",
    "    all_thetas = np.zeros((num_etiquetas, n))\n",
    "    \n",
    "    # Bucle principal\n",
    "    for c in range(num_etiquetas):\n",
    "        theta_inicial = np.zeros(n)\n",
    "        result = opt.fmin_tnc(func=fun_coste_reg, x0=theta_inicial, fprime=gradient_reg, args=(X, y_onehot[:, c], reg))\n",
    "        all_thetas[c] = result[0]\n",
    "        \n",
    "    return all_thetas"
   ]
  },
  {
   "cell_type": "code",
   "execution_count": 8,
   "metadata": {},
   "outputs": [],
   "source": [
    "# Calcula la predicción de un ejemplo (1 fila) aplicandole la función sigmoide en función de thetas\n",
    "def prediccion(ejemplo, all_thetas):\n",
    "    resul = sigmoid(np.dot(all_thetas, ejemplo))\n",
    "    return np.argmax(resul) + 1"
   ]
  },
  {
   "cell_type": "code",
   "execution_count": 9,
   "metadata": {},
   "outputs": [],
   "source": [
    "# Calcula las predicciones y las compara con las clases originales, después calcula el porcentaje de aciertos\n",
    "def calcula_precision(X, y, all_thetas):\n",
    "    predicciones = []\n",
    "    for ejemplo in X:\n",
    "        predicciones.append(prediccion(ejemplo, all_thetas))\n",
    "    \n",
    "    precision = np.mean(predicciones == y.ravel())\n",
    "    print(\"Porcentaje de aciertos: \", precision * 100, \"%\")\n",
    "    return predicciones"
   ]
  },
  {
   "cell_type": "markdown",
   "metadata": {},
   "source": [
    "### Analizando resultados"
   ]
  },
  {
   "cell_type": "code",
   "execution_count": 10,
   "metadata": {},
   "outputs": [],
   "source": [
    "all_thetas = oneVsAll(X, y, 10, 0.1)"
   ]
  },
  {
   "cell_type": "code",
   "execution_count": 11,
   "metadata": {},
   "outputs": [
    {
     "name": "stdout",
     "output_type": "stream",
     "text": [
      "Porcentaje de aciertos:  95.88 %\n"
     ]
    }
   ],
   "source": [
    "predicciones = calcula_precision(X, y, all_thetas)"
   ]
  },
  {
   "cell_type": "markdown",
   "metadata": {},
   "source": [
    "Observando los resultados, obtenemos un porcentaje de aciertos bastante alto. Si comprobamos el array de predicciones, como en y los ejemplos estan ordenados (500 primeros del 0, 500 siguientes del 1...), vemos claramente en que ejemplos se confunde el clasificador. Posiblemente si analizamos dichos ejemplos, nos costará saber que número es hasta a nosotros, por lo que consideramos que hace bien su trabajo."
   ]
  },
  {
   "cell_type": "markdown",
   "metadata": {},
   "source": [
    "## Parte 2 - Redes neuronales "
   ]
  },
  {
   "cell_type": "markdown",
   "metadata": {},
   "source": [
    "### Carga de los datos"
   ]
  },
  {
   "cell_type": "code",
   "execution_count": 12,
   "metadata": {},
   "outputs": [],
   "source": [
    "# Carga de los datos\n",
    "weights = loadmat ( 'ex3weights.mat')\n",
    "theta1, theta2 = weights['Theta1'], weights['Theta2']\n",
    "all_thetas = weights['Theta1'], weights['Theta2']"
   ]
  },
  {
   "cell_type": "code",
   "execution_count": 17,
   "metadata": {},
   "outputs": [],
   "source": [
    "# Carga del fichero\n",
    "data = loadmat ('ex3data1.mat')\n",
    "\n",
    "# Almacenamos los datos leídos en X, y\n",
    "X = data ['X'] # X es una matriz de 5000x400 donde cada fila representa una imagen de 20x20 píxeles\n",
    "y = data ['y'] # y es un vector de 5000x1 componentes con las etiquetas de los ejemplos de entrenamiento"
   ]
  },
  {
   "cell_type": "markdown",
   "metadata": {},
   "source": [
    "### Propagación hacia delante"
   ]
  },
  {
   "cell_type": "code",
   "execution_count": 18,
   "metadata": {},
   "outputs": [],
   "source": [
    "# Propagación hacia delante\n",
    "def forward_propagation(Theta1, Theta2, X):\n",
    "    m = X.shape[0]\n",
    "\n",
    "    # Input Layer\n",
    "    a1 = np.hstack([np.ones([m, 1]), X])\n",
    "    # Hidden Layer\n",
    "    z2 = np.matmul(a1, Theta1.T)\n",
    "    a2 = np.hstack([np.ones([m, 1]), sigmoid(z2)])\n",
    "    # Output Layer\n",
    "    z3 = np.matmul(a2, Theta2.T)\n",
    "    a3 = sigmoid(z3)\n",
    "    \n",
    "    return a3"
   ]
  },
  {
   "cell_type": "code",
   "execution_count": 19,
   "metadata": {},
   "outputs": [],
   "source": [
    "# Calcula las predicciones y las compara con las clases originales, después calcula el porcentaje de aciertos\n",
    "def calcula_precision(result, y):\n",
    "    predicciones = []\n",
    "    for i in range(len(result)):\n",
    "        predicciones.append(np.argmax(result[i])+1)\n",
    "            \n",
    "    precision = np.mean(predicciones == y.ravel())\n",
    "    print(\"Porcentaje de aciertos: \", precision * 100, \"%\")\n",
    "    return predicciones"
   ]
  },
  {
   "cell_type": "markdown",
   "metadata": {},
   "source": [
    "### Observando resultados"
   ]
  },
  {
   "cell_type": "code",
   "execution_count": 20,
   "metadata": {},
   "outputs": [],
   "source": [
    "result = forward_propagation(all_thetas[0], all_thetas[1], X)"
   ]
  },
  {
   "cell_type": "code",
   "execution_count": 21,
   "metadata": {},
   "outputs": [
    {
     "name": "stdout",
     "output_type": "stream",
     "text": [
      "Porcentaje de aciertos:  97.52 %\n"
     ]
    }
   ],
   "source": [
    "predicciones = calcula_precision(result, y)"
   ]
  },
  {
   "cell_type": "markdown",
   "metadata": {},
   "source": [
    "Con las redes neuronales obtenemos un mayor porcentaje de aciertos."
   ]
  }
 ],
 "metadata": {
  "kernelspec": {
   "display_name": "Python 3",
   "language": "python",
   "name": "python3"
  },
  "language_info": {
   "codemirror_mode": {
    "name": "ipython",
    "version": 3
   },
   "file_extension": ".py",
   "mimetype": "text/x-python",
   "name": "python",
   "nbconvert_exporter": "python",
   "pygments_lexer": "ipython3",
   "version": "3.8.5"
  }
 },
 "nbformat": 4,
 "nbformat_minor": 5
}
