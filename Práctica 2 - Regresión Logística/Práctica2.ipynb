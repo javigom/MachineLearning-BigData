{
 "cells": [
  {
   "cell_type": "markdown",
   "metadata": {},
   "source": [
    "# Práctica 2 Regresión logística\n",
    "\n",
    "#### Realizado por Javier Gómez Moraleda y Unai Piris Ibañez"
   ]
  },
  {
   "cell_type": "code",
   "execution_count": 1,
   "metadata": {},
   "outputs": [],
   "source": [
    "# Imports\n",
    "import numpy as np\n",
    "import matplotlib.pyplot as plt\n",
    "from pandas.io.parsers import read_csv\n",
    "import scipy.optimize as opt\n",
    "from sklearn.preprocessing import PolynomialFeatures"
   ]
  },
  {
   "cell_type": "code",
   "execution_count": 2,
   "metadata": {},
   "outputs": [],
   "source": [
    "# Función que carga los datos\n",
    "def carga_csv(file_name):\n",
    "    valores = read_csv(file_name, header = None).to_numpy()\n",
    "    return valores.astype(float)"
   ]
  },
  {
   "cell_type": "markdown",
   "metadata": {},
   "source": [
    "## Parte 1: Regresión logística sin regularizar"
   ]
  },
  {
   "cell_type": "code",
   "execution_count": 3,
   "metadata": {},
   "outputs": [],
   "source": [
    "# Calcula el valor de la función sigmoide\n",
    "def sigmoid(X):\n",
    "    z = 1/(1 + np.exp(-X))\n",
    "    return z"
   ]
  },
  {
   "cell_type": "code",
   "execution_count": 4,
   "metadata": {},
   "outputs": [],
   "source": [
    "# Calcula la función de coste\n",
    "def fun_coste (thetas, X, Y):\n",
    "    \n",
    "    H = sigmoid(np.dot(X, thetas))\n",
    "    Term1 = np.matmul(Y, np.log(H))\n",
    "    Term2 = np.matmul((1 - Y), np.log(1 - H))\n",
    "    cost = (- 1 / (len(Y))) * np.sum(Term1 + Term2)\n",
    "    \n",
    "    return cost"
   ]
  },
  {
   "cell_type": "code",
   "execution_count": 5,
   "metadata": {},
   "outputs": [],
   "source": [
    "# Calcula el gradiente\n",
    "def gradient(thetas, X, Y):\n",
    "    \n",
    "    H = sigmoid(np.dot(X, thetas))\n",
    "    Dif = H - Y\n",
    "    grad = (1 / len(Y)) * np.matmul(Dif, X)\n",
    "\n",
    "    return grad"
   ]
  },
  {
   "cell_type": "code",
   "execution_count": 6,
   "metadata": {},
   "outputs": [],
   "source": [
    "# Calcula la predicción\n",
    "def predict(X, Y, theta_opt):\n",
    "    Y_prediccion = np.round(sigmoid(np.dot(X, theta_opt)))\n",
    "    return Y_prediccion"
   ]
  },
  {
   "cell_type": "code",
   "execution_count": 7,
   "metadata": {},
   "outputs": [],
   "source": [
    "# Calcula la precisión\n",
    "def accuracy(Y, Y_prediccion, m):\n",
    "    return np.sum((Y == np.array(Y_prediccion))) / m"
   ]
  },
  {
   "cell_type": "code",
   "execution_count": 8,
   "metadata": {},
   "outputs": [],
   "source": [
    "# Dibuja la frontera de decisión \n",
    "def pinta_frontera_recta(X, Y, theta):\n",
    "    plt.figure()\n",
    "    x1_min, x1_max = X[:, 1].min(), X[:, 2].max()\n",
    "    x2_min, x2_max = X[:, 1].min(), X[:, 2].max()\n",
    "    \n",
    "    xx1, xx2 = np.meshgrid(np.linspace(x1_min, x1_max),\n",
    "    np.linspace(x2_min, x2_max))\n",
    "    \n",
    "    h = sigmoid(np.c_[np.ones((xx1.ravel().shape[0], 1)),\n",
    "    xx1.ravel(),\n",
    "    xx2.ravel()].dot(theta))\n",
    "    h = h.reshape(xx1.shape)\n",
    "    \n",
    "    # el cuarto parámetro es el valor de z cuya frontera se\n",
    "    # quiere pintar\n",
    "    plt.contour(xx1, xx2, h, [0.5], linewidths=1, colors='b')\n",
    "    plt.scatter(X[pos, 1], X[pos, 2], marker =\"+\", c=\"k\")\n",
    "    plt.scatter(X[neg, 1], X[neg, 2], marker =\".\", c=\"y\")\n",
    "    #plt.savefig(\"frontera.pdf\")\n",
    "    plt.show()\n",
    "    plt.close()"
   ]
  },
  {
   "cell_type": "markdown",
   "metadata": {},
   "source": [
    "### Observando resultados"
   ]
  },
  {
   "cell_type": "markdown",
   "metadata": {},
   "source": [
    "#### Visualización de los datos"
   ]
  },
  {
   "cell_type": "code",
   "execution_count": 9,
   "metadata": {},
   "outputs": [
    {
     "data": {
      "text/plain": [
       "<matplotlib.collections.PathCollection at 0x1e3440d8700>"
      ]
     },
     "execution_count": 9,
     "metadata": {},
     "output_type": "execute_result"
    },
    {
     "data": {
      "image/png": "[encoded data removed]",
      "text/plain": [
       "<Figure size 432x288 with 1 Axes>"
      ]
     },
     "metadata": {
      "needs_background": "light"
     },
     "output_type": "display_data"
    }
   ],
   "source": [
    "# Cargamos los datos\n",
    "datos = carga_csv('ex2data1.csv')\n",
    "\n",
    "# Separamos las variables del resultado\n",
    "X = datos[:,:-1]\n",
    "Y = datos[:, -1]\n",
    "\n",
    "# Añadimos una columna de 1's\n",
    "X = np.hstack([np.ones([np.shape(X)[0], 1]), X])\n",
    "\n",
    "# Filas y columnas\n",
    "m = np.shape(X)[0]\n",
    "n = np.shape(X)[1]\n",
    "\n",
    "# Dibuja los ejemplos positivos\n",
    "pos = np.where (Y == 1)\n",
    "plt.scatter(X[pos, 1], X[pos, 2], marker='+', c='k' )\n",
    "\n",
    "# Dibuja los ejemplos negativos\n",
    "neg = np.where (Y == 0)\n",
    "plt.scatter(X[neg, 1], X[neg, 2], marker='.', c = 'y')"
   ]
  },
  {
   "cell_type": "code",
   "execution_count": null,
   "metadata": {},
   "outputs": [],
   "source": [
    "# Esto para borrar???\n",
    "#thetas = np.zeros(n)\n",
    "#fun_coste(thetas, X, Y)"
   ]
  },
  {
   "cell_type": "code",
   "execution_count": null,
   "metadata": {},
   "outputs": [],
   "source": [
    "# Calculamos los valores de thetas con el gradiente\n",
    "#n = np.shape(X)[1]\n",
    "#thetas = np.zeros(n)\n",
    "#thetas = gradient(thetas, X, Y)\n",
    "#print(\"Valores de thetas: \", thetas)"
   ]
  },
  {
   "cell_type": "markdown",
   "metadata": {},
   "source": [
    "#### Resultados óptimos"
   ]
  },
  {
   "cell_type": "code",
   "execution_count": 10,
   "metadata": {},
   "outputs": [
    {
     "name": "stdout",
     "output_type": "stream",
     "text": [
      "Coste óptimo:  0.2034977015894746\n"
     ]
    }
   ],
   "source": [
    "# Calculamos los resultados óptimos\n",
    "thetas = np.zeros(n)\n",
    "result = opt.fmin_tnc(func=fun_coste, x0=thetas, fprime=gradient, args=(X, Y))\n",
    "theta_opt = result[0]\n",
    "coste = fun_coste(theta_opt, X, Y)\n",
    "print(\"Coste óptimo: \", coste)"
   ]
  },
  {
   "cell_type": "code",
   "execution_count": 11,
   "metadata": {},
   "outputs": [
    {
     "data": {
      "image/png": "[encoded data removed]",
      "text/plain": [
       "<Figure size 432x288 with 1 Axes>"
      ]
     },
     "metadata": {
      "needs_background": "light"
     },
     "output_type": "display_data"
    },
    {
     "name": "stdout",
     "output_type": "stream",
     "text": [
      "Porcentaje aciertos:  89.0 %\n"
     ]
    }
   ],
   "source": [
    "# Dibuja la frontera\n",
    "pinta_frontera_recta(X, Y, theta_opt);\n",
    "print(\"Porcentaje aciertos: \", accuracy(Y, predict(X,Y,theta_opt), m)*100, \"%\")"
   ]
  },
  {
   "cell_type": "markdown",
   "metadata": {},
   "source": [
    "## Parte 2: Regresión logística regularizada"
   ]
  },
  {
   "cell_type": "code",
   "execution_count": null,
   "metadata": {},
   "outputs": [],
   "source": []
  }
 ],
 "metadata": {
  "kernelspec": {
   "display_name": "Python 3",
   "language": "python",
   "name": "python3"
  },
  "language_info": {
   "codemirror_mode": {
    "name": "ipython",
    "version": 3
   },
   "file_extension": ".py",
   "mimetype": "text/x-python",
   "name": "python",
   "nbconvert_exporter": "python",
   "pygments_lexer": "ipython3",
   "version": "3.8.5"
  }
 },
 "nbformat": 4,
 "nbformat_minor": 5
}
