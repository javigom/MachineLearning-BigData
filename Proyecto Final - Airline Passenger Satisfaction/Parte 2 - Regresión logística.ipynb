{
 "cells": [
  {
   "cell_type": "markdown",
   "metadata": {},
   "source": [
    "# Proyecto Final : Airline Passenger Satisfaction\n",
    "\n",
    "# Parte 2: Regresión Logística\n",
    "\n",
    "#### Realizado por Javier Gómez Moraleda y Unai Piris Ibañez"
   ]
  },
  {
   "cell_type": "code",
   "execution_count": 1,
   "metadata": {},
   "outputs": [],
   "source": [
    "# Imports\n",
    "import numpy as np\n",
    "import matplotlib.pyplot as plt\n",
    "import scipy.optimize as opt\n",
    "import seaborn as sebrn\n",
    "\n",
    "from pandas.io.parsers import read_csv\n",
    "from sklearn.preprocessing import PolynomialFeatures\n",
    "from sklearn.metrics import confusion_matrix\n",
    "from sklearn.metrics import classification_report"
   ]
  },
  {
   "cell_type": "markdown",
   "metadata": {},
   "source": [
    "## Carga de datos"
   ]
  },
  {
   "cell_type": "code",
   "execution_count": 2,
   "metadata": {},
   "outputs": [],
   "source": [
    "def load_csv(file_name):\n",
    "    # CSV to DataFrame\n",
    "    data = read_csv(file_name).to_numpy()\n",
    "    return data[:,1:]"
   ]
  },
  {
   "cell_type": "code",
   "execution_count": 3,
   "metadata": {},
   "outputs": [],
   "source": [
    "# Cargamos los ficheros procesados\n",
    "train = load_csv('data/processed/train_processed.csv')\n",
    "validation = load_csv('data/processed/validation_processed.csv')\n",
    "test = load_csv('data/processed/test_processed.csv')"
   ]
  },
  {
   "cell_type": "code",
   "execution_count": 4,
   "metadata": {},
   "outputs": [],
   "source": [
    "# Dividimos entre las columnas de datos y la predicción\n",
    "X_train = train[:,:-1]\n",
    "y_train = train[:,-1]\n",
    "X_validation = validation[:,:-1]\n",
    "y_validation = validation[:,-1]\n",
    "X_test = test[:,:-1]\n",
    "y_test = test[:,-1]"
   ]
  },
  {
   "cell_type": "markdown",
   "metadata": {},
   "source": [
    "## Regresión logística sin regularización"
   ]
  },
  {
   "cell_type": "code",
   "execution_count": 5,
   "metadata": {},
   "outputs": [],
   "source": [
    "# Calcula el valor de la función sigmoide\n",
    "def sigmoid(X):\n",
    "    z = 1/(1 + np.exp(-X))\n",
    "    return z"
   ]
  },
  {
   "cell_type": "code",
   "execution_count": 6,
   "metadata": {},
   "outputs": [],
   "source": [
    "# Calcula la función de coste\n",
    "def fun_coste (thetas, X, y):\n",
    "    \n",
    "    H = sigmoid(np.dot(X, thetas))\n",
    "    Term1 = np.matmul(y, np.log(H))\n",
    "    Term2 = np.matmul((1 - y), np.log(1 - H))\n",
    "    cost = (- 1 / (len(y))) * np.sum(Term1 + Term2)\n",
    "    \n",
    "    return cost"
   ]
  },
  {
   "cell_type": "code",
   "execution_count": 7,
   "metadata": {},
   "outputs": [],
   "source": [
    "# Calcula el gradiente\n",
    "def gradient(thetas, X, Y):\n",
    "    H = sigmoid(np.dot(X, thetas))\n",
    "    Dif = H - Y\n",
    "    grad = (1 / len(Y)) * np.matmul(Dif, X)\n",
    "\n",
    "    return grad"
   ]
  },
  {
   "cell_type": "code",
   "execution_count": 8,
   "metadata": {},
   "outputs": [],
   "source": [
    "# Calcula la predicción\n",
    "def predict(X, Y, theta_opt):\n",
    "    Y_prediccion = np.round(sigmoid(np.dot(X, theta_opt)))\n",
    "    return Y_prediccion"
   ]
  },
  {
   "cell_type": "code",
   "execution_count": 9,
   "metadata": {},
   "outputs": [],
   "source": [
    "# Calcula la precisión\n",
    "def accuracy(Y, Y_prediccion, m):\n",
    "    return np.sum((Y == np.array(Y_prediccion))) / m"
   ]
  },
  {
   "cell_type": "code",
   "execution_count": 10,
   "metadata": {},
   "outputs": [],
   "source": [
    "# Añadimos una columna de 1's\n",
    "X_train_1 = np.hstack([np.ones([np.shape(X_train)[0], 1]), X_train])\n",
    "\n",
    "# Filas y columnas\n",
    "m = np.shape(X_train_1)[0]\n",
    "n = np.shape(X_train_1)[1]\n",
    "\n",
    "# Calculamos valores de thetas óptimos\n",
    "thetas = np.zeros(n)\n",
    "result = opt.fmin_tnc(func=fun_coste, x0=thetas, fprime=gradient, args=(X_train_1, y_train))\n",
    "theta_opt = result[0]"
   ]
  },
  {
   "cell_type": "code",
   "execution_count": 11,
   "metadata": {},
   "outputs": [
    {
     "name": "stdout",
     "output_type": "stream",
     "text": [
      "Porcentaje acertado:  86.5 %\n"
     ]
    }
   ],
   "source": [
    "# Porcentaje de aciertos sobre el conjunto de test\n",
    "X_test_1 = np.hstack([np.ones([np.shape(X_test)[0], 1]), X_test])\n",
    "y_test_pred = predict(X_test_1, y_test, theta_opt)\n",
    "hits = accuracy(y_test, y_test_pred, np.shape(X_test_1)[0])\n",
    "print(\"Porcentaje acertado: \", hits * 100, \"%\")"
   ]
  },
  {
   "cell_type": "code",
   "execution_count": 12,
   "metadata": {},
   "outputs": [
    {
     "data": {
      "image/png": "[encoded data removed]",
      "text/plain": [
       "<Figure size 432x288 with 2 Axes>"
      ]
     },
     "metadata": {
      "needs_background": "light"
     },
     "output_type": "display_data"
    }
   ],
   "source": [
    "# Matriz de confusión\n",
    "conf_matrix = confusion_matrix(y_test, y_test_pred)\n",
    "\n",
    "# Using Seaborn heatmap to create the plot\n",
    "fx = sebrn.heatmap(conf_matrix, annot=True, fmt=\"d\", cmap='Blues')\n",
    "\n",
    "# labels the title and x, y axis of plot\n",
    "fx.set_xlabel('Predicted label')\n",
    "fx.set_ylabel('True label ');\n",
    "\n",
    "plt.savefig('figures/parte2/confusion_matrix_linear.png')"
   ]
  },
  {
   "cell_type": "code",
   "execution_count": 13,
   "metadata": {},
   "outputs": [
    {
     "name": "stdout",
     "output_type": "stream",
     "text": [
      "                         precision    recall  f1-score   support\n",
      "\n",
      "neutral or dissatisfied       0.89      0.87      0.88      1165\n",
      "              satisfied       0.83      0.86      0.84       835\n",
      "\n",
      "               accuracy                           0.86      2000\n",
      "              macro avg       0.86      0.86      0.86      2000\n",
      "           weighted avg       0.87      0.86      0.87      2000\n",
      "\n"
     ]
    }
   ],
   "source": [
    "# Accuracy, precision, recall and f1\n",
    "target_names = ['neutral or dissatisfied', 'satisfied']\n",
    "print(classification_report(y_test_pred, y_test, target_names=target_names))"
   ]
  },
  {
   "cell_type": "markdown",
   "metadata": {},
   "source": [
    "## Regresión logística regularizada"
   ]
  },
  {
   "cell_type": "code",
   "execution_count": 14,
   "metadata": {},
   "outputs": [],
   "source": [
    "# Calcula la función de coste regularizada\n",
    "def fun_coste_reg(thetas, X, Y, lam):\n",
    "    H = sigmoid(np.dot(X, thetas))\n",
    "    m = len(Y)\n",
    "    Term1 = np.matmul(Y, np.log(H))\n",
    "    Term2 = np.matmul((1 - Y), np.log(1 - H))\n",
    "    cost = (- np.sum(Term1 + Term2) / m)  + (lam / (2*m)) * np.sum(np.square(thetas[1:]))\n",
    "    \n",
    "    return cost"
   ]
  },
  {
   "cell_type": "code",
   "execution_count": 15,
   "metadata": {},
   "outputs": [],
   "source": [
    "# Calcula el gradiente\n",
    "def gradient_reg(thetas, X, Y, lam):\n",
    "    H = sigmoid(np.dot(X, thetas))\n",
    "    m = len(Y)\n",
    "    Dif = H - Y\n",
    "    grad = (np.matmul(Dif, X) / m)\n",
    "    grad[1:] += (lam / m) * thetas[1:] \n",
    "\n",
    "    return grad"
   ]
  },
  {
   "cell_type": "code",
   "execution_count": 16,
   "metadata": {},
   "outputs": [],
   "source": [
    "def make_data(X, grado):\n",
    "    poly = PolynomialFeatures(grado)\n",
    "    X = poly.fit_transform(X)\n",
    "    return X"
   ]
  },
  {
   "cell_type": "code",
   "execution_count": 17,
   "metadata": {},
   "outputs": [],
   "source": [
    "def training (lamlist,X_train, y_train, X_validation,y_validation):\n",
    "    # Iterando diferentes valores de lambda\n",
    "    for lam in lamlist:   \n",
    "        thetas = np.zeros(np.shape(X_validation)[1])\n",
    "        result = opt.fmin_tnc(func=fun_coste_reg, x0=thetas, fprime=gradient_reg, args=(X_train, y_train, lam))\n",
    "        theta_opt = result[0]\n",
    "        hits = accuracy(y_validation, predict(X_validation, y_validation, theta_opt), np.shape(X_validation)[0])\n",
    "        scores.append(hits*100)\n",
    "    return theta_opt, scores"
   ]
  },
  {
   "cell_type": "code",
   "execution_count": 18,
   "metadata": {},
   "outputs": [],
   "source": [
    "# Probamos distintos valores de lambda\n",
    "lamlist = [0,0.00001, 0.00001, 0.0001, 0.001, 0.01, 0.1, 1, 10, 100]\n",
    "scores = []"
   ]
  },
  {
   "cell_type": "code",
   "execution_count": 19,
   "metadata": {},
   "outputs": [],
   "source": [
    "# Añadimos una columna de 1's\n",
    "X_train_1 = np.hstack([np.ones([np.shape(X_train)[0], 1]), X_train])\n",
    "X_validation_1 = np.hstack([np.ones([np.shape(X_validation)[0], 1]), X_validation])\n",
    "\n",
    "# Iterando diferentes valores de lambda\n",
    "theta_opt, scores = training(lamlist,X_train_1, y_train, X_validation_1,y_validation)"
   ]
  },
  {
   "cell_type": "code",
   "execution_count": 20,
   "metadata": {},
   "outputs": [
    {
     "name": "stdout",
     "output_type": "stream",
     "text": [
      "[88.7, 88.7, 88.7, 88.7, 88.7, 88.7, 88.7, 88.7, 88.55, 88.55]\n"
     ]
    }
   ],
   "source": [
    "# Matriz de porcentajes de aciertos obtenida\n",
    "print(scores)"
   ]
  },
  {
   "cell_type": "code",
   "execution_count": 21,
   "metadata": {},
   "outputs": [
    {
     "name": "stdout",
     "output_type": "stream",
     "text": [
      "(array([0, 1, 2, 3, 4, 5, 6, 7], dtype=int64),)\n"
     ]
    }
   ],
   "source": [
    "# Obtenemos los índices de los valores máximos\n",
    "indexes = np.where(scores == np.amax(scores))\n",
    "print(indexes)"
   ]
  },
  {
   "cell_type": "code",
   "execution_count": 22,
   "metadata": {},
   "outputs": [],
   "source": [
    "# Nos quedamos con el primer valor máximo que aparece\n",
    "lam_max_index = indexes[0][0]\n",
    "lam_max = lamlist[lam_max_index]\n",
    "result = opt.fmin_tnc(func=fun_coste_reg, x0=thetas, fprime=gradient_reg, args=(X_train_1, y_train, 100))\n",
    "theta_opt = result[0]\n",
    "hits = accuracy(y_validation, predict(X_validation_1, y_validation, theta_opt), m)\n",
    "scores.append(hits*100)"
   ]
  },
  {
   "cell_type": "code",
   "execution_count": 23,
   "metadata": {},
   "outputs": [
    {
     "name": "stdout",
     "output_type": "stream",
     "text": [
      "Lambda:  0  Porcentaje acertado:  86.5 %\n"
     ]
    }
   ],
   "source": [
    "# Porcentaje de aciertos sobre el conjunto de test\n",
    "X_test_1 = np.hstack([np.ones([np.shape(X_test)[0], 1]), X_test])\n",
    "y_test_pred = predict(X_test_1, y_test, theta_opt)\n",
    "hits = accuracy(y_test, y_test_pred, np.shape(X_test_1)[0])\n",
    "print(\"Lambda: \", lam_max, \" Porcentaje acertado: \", hits * 100, \"%\")"
   ]
  },
  {
   "cell_type": "code",
   "execution_count": 24,
   "metadata": {},
   "outputs": [
    {
     "data": {
      "image/png": "[encoded data removed]",
      "text/plain": [
       "<Figure size 432x288 with 2 Axes>"
      ]
     },
     "metadata": {
      "needs_background": "light"
     },
     "output_type": "display_data"
    }
   ],
   "source": [
    "# Matriz de confusión\n",
    "conf_matrix = confusion_matrix(y_test, y_test_pred)\n",
    "\n",
    "# Using Seaborn heatmap to create the plot\n",
    "fx = sebrn.heatmap(conf_matrix, annot=True, fmt=\"d\", cmap='Blues')\n",
    "\n",
    "# labels the title and x, y axis of plot\n",
    "fx.set_xlabel('Predicted label')\n",
    "fx.set_ylabel('True label ');\n",
    "\n",
    "plt.savefig('figures/parte2/confusion_matrix_lineal_reg.png')"
   ]
  },
  {
   "cell_type": "code",
   "execution_count": 25,
   "metadata": {},
   "outputs": [
    {
     "name": "stdout",
     "output_type": "stream",
     "text": [
      "                         precision    recall  f1-score   support\n",
      "\n",
      "neutral or dissatisfied       0.90      0.87      0.88      1183\n",
      "              satisfied       0.82      0.86      0.84       817\n",
      "\n",
      "               accuracy                           0.86      2000\n",
      "              macro avg       0.86      0.86      0.86      2000\n",
      "           weighted avg       0.87      0.86      0.87      2000\n",
      "\n"
     ]
    }
   ],
   "source": [
    "# Accuracy, precision, recall and f1\n",
    "target_names = ['neutral or dissatisfied', 'satisfied']\n",
    "print(classification_report(y_test_pred, y_test, target_names=target_names))"
   ]
  },
  {
   "cell_type": "markdown",
   "metadata": {},
   "source": [
    "## Regresion logistica con polinomios"
   ]
  },
  {
   "cell_type": "markdown",
   "metadata": {},
   "source": [
    "### polinomio grado 2"
   ]
  },
  {
   "cell_type": "code",
   "execution_count": 26,
   "metadata": {},
   "outputs": [],
   "source": [
    "X_train_poly2 = make_data(X_train, 2)\n",
    "X_validation_poly2 = make_data(X_validation, 2)\n",
    "X_test_poly2 = make_data(X_test, 2)\n",
    "\n",
    "scores = []"
   ]
  },
  {
   "cell_type": "code",
   "execution_count": 27,
   "metadata": {},
   "outputs": [
    {
     "name": "stderr",
     "output_type": "stream",
     "text": [
      "C:\\Users\\unai\\AppData\\Local\\Temp/ipykernel_16740/3632347552.py:6: RuntimeWarning: divide by zero encountered in log\n",
      "  Term2 = np.matmul((1 - Y), np.log(1 - H))\n"
     ]
    }
   ],
   "source": [
    "theta_opt, scores = training(lamlist,X_train_poly2, y_train, X_validation_poly2,y_validation)"
   ]
  },
  {
   "cell_type": "code",
   "execution_count": 28,
   "metadata": {},
   "outputs": [
    {
     "name": "stdout",
     "output_type": "stream",
     "text": [
      "[94.1, 94.1, 94.1, 94.1, 94.1, 94.1, 94.1, 94.1, 94.15, 93.75]\n"
     ]
    }
   ],
   "source": [
    "# Matriz de porcentajes de aciertos obtenida\n",
    "print(scores)"
   ]
  },
  {
   "cell_type": "code",
   "execution_count": 29,
   "metadata": {},
   "outputs": [],
   "source": [
    "# Obtenemos los índices de los valores máximos\n",
    "indexes = np.where(scores == np.amax(scores))"
   ]
  },
  {
   "cell_type": "code",
   "execution_count": 30,
   "metadata": {},
   "outputs": [],
   "source": [
    "# Nos quedamos con el primer valor máximo que aparece\n",
    "lam_max_index = indexes[0][0]\n",
    "lam_max = lamlist[lam_max_index]\n",
    "result = opt.fmin_tnc(func=fun_coste_reg, x0=thetas, fprime=gradient_reg, args=(X_train_1, y_train, lam_max))"
   ]
  },
  {
   "cell_type": "code",
   "execution_count": 31,
   "metadata": {},
   "outputs": [
    {
     "name": "stdout",
     "output_type": "stream",
     "text": [
      "Lambda:  10  Porcentaje acertado:  92.7 %\n"
     ]
    }
   ],
   "source": [
    "# Porcentaje de aciertos sobre el conjunto de test\n",
    "y_test_pred = predict(X_test_poly2, y_test, theta_opt)\n",
    "hits = accuracy(y_test, y_test_pred, np.shape(X_test_poly2)[0])\n",
    "print(\"Lambda: \", lam_max, \" Porcentaje acertado: \", hits * 100, \"%\")"
   ]
  },
  {
   "cell_type": "code",
   "execution_count": 32,
   "metadata": {},
   "outputs": [
    {
     "data": {
      "image/png": "[encoded data removed]",
      "text/plain": [
       "<Figure size 432x288 with 2 Axes>"
      ]
     },
     "metadata": {
      "needs_background": "light"
     },
     "output_type": "display_data"
    }
   ],
   "source": [
    "# Matriz de confusión\n",
    "conf_matrix = confusion_matrix(y_test, y_test_pred)\n",
    "\n",
    "# Using Seaborn heatmap to create the plot\n",
    "fx = sebrn.heatmap(conf_matrix, annot=True, fmt=\"d\", cmap='Blues')\n",
    "\n",
    "# labels the title and x, y axis of plot\n",
    "fx.set_xlabel('Predicted label')\n",
    "fx.set_ylabel('True label ');\n",
    "\n",
    "plt.savefig('figures/parte2/confusion_matrix_poly2_reg.png')"
   ]
  },
  {
   "cell_type": "code",
   "execution_count": 33,
   "metadata": {},
   "outputs": [
    {
     "name": "stdout",
     "output_type": "stream",
     "text": [
      "                         precision    recall  f1-score   support\n",
      "\n",
      "neutral or dissatisfied       0.95      0.92      0.94      1179\n",
      "              satisfied       0.89      0.94      0.91       821\n",
      "\n",
      "               accuracy                           0.93      2000\n",
      "              macro avg       0.92      0.93      0.93      2000\n",
      "           weighted avg       0.93      0.93      0.93      2000\n",
      "\n"
     ]
    }
   ],
   "source": [
    "# Accuracy, precision, recall and f1\n",
    "target_names = ['neutral or dissatisfied', 'satisfied']\n",
    "print(classification_report(y_test_pred, y_test, target_names=target_names))"
   ]
  }
 ],
 "metadata": {
  "kernelspec": {
   "display_name": "Python 3 (ipykernel)",
   "language": "python",
   "name": "python3"
  },
  "language_info": {
   "codemirror_mode": {
    "name": "ipython",
    "version": 3
   },
   "file_extension": ".py",
   "mimetype": "text/x-python",
   "name": "python",
   "nbconvert_exporter": "python",
   "pygments_lexer": "ipython3",
   "version": "3.9.7"
  }
 },
 "nbformat": 4,
 "nbformat_minor": 4
}
