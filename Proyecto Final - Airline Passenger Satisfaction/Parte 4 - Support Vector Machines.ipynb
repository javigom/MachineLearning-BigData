{
 "cells": [
  {
   "cell_type": "markdown",
   "metadata": {},
   "source": [
    "# Proyecto Final : Airline Passenger Satisfaction\n",
    "\n",
    "# Parte 4: Support Vector Machines\n",
    "\n",
    "#### Realizado por Javier Gómez Moraleda y Unai Piris Ibañez"
   ]
  },
  {
   "cell_type": "code",
   "execution_count": 1,
   "metadata": {},
   "outputs": [],
   "source": [
    "# Imports\n",
    "import numpy as np\n",
    "import matplotlib.pyplot as plt\n",
    "import sklearn.svm as skl\n",
    "\n",
    "from pandas.io.parsers import read_csv\n",
    "from scipy.io import loadmat\n",
    "from sklearn.metrics import classification_report\n",
    "from sklearn.metrics import plot_confusion_matrix"
   ]
  },
  {
   "cell_type": "markdown",
   "metadata": {},
   "source": [
    "## Carga de datos"
   ]
  },
  {
   "cell_type": "code",
   "execution_count": 2,
   "metadata": {},
   "outputs": [],
   "source": [
    "# Carga CSV\n",
    "def load_csv(file_name):\n",
    "    # CSV to DataFrame\n",
    "    data = read_csv(file_name).to_numpy()\n",
    "    return data[:,1:]"
   ]
  },
  {
   "cell_type": "code",
   "execution_count": 3,
   "metadata": {},
   "outputs": [],
   "source": [
    "# Cargamos los ficheros procesados\n",
    "train = load_csv('data/processed/train_processed.csv')\n",
    "validation = load_csv('data/processed/validation_processed.csv')\n",
    "test = load_csv('data/processed/test_processed.csv')"
   ]
  },
  {
   "cell_type": "code",
   "execution_count": 4,
   "metadata": {},
   "outputs": [],
   "source": [
    "# Dividimos entre las columnas de datos y la predicción\n",
    "X_train = train[:,:-1]\n",
    "y_train = train[:,-1]\n",
    "y_train = y_train.astype(np.uint8)\n",
    "X_validation = validation[:,:-1]\n",
    "y_validation = validation[:,-1]\n",
    "y_validation = y_validation.astype(np.uint8)\n",
    "X_test = test[:,:-1]\n",
    "y_test = test[:,-1]\n",
    "y_test = y_test.astype(np.uint8)"
   ]
  },
  {
   "cell_type": "markdown",
   "metadata": {},
   "source": [
    "## Kernel Lineal"
   ]
  },
  {
   "cell_type": "code",
   "execution_count": 5,
   "metadata": {},
   "outputs": [],
   "source": [
    "# Diferentes valores de C\n",
    "C_vec = [0.01, 0.03, 0.1, 0.3, 1, 3, 10, 30, 100]\n",
    "scores = np.zeros(len(C_vec))"
   ]
  },
  {
   "cell_type": "code",
   "execution_count": 6,
   "metadata": {},
   "outputs": [],
   "source": [
    "# Entrenamiento\n",
    "for i in range(0, len(C_vec)):\n",
    "    svm = skl.SVC(C=C_vec[i], kernel = 'linear')\n",
    "    svm.fit(X_train, y_train)\n",
    "    y_val_p = svm.predict(X_validation)\n",
    "    hits = np.sum(y_val_p == y_validation) / len(y_validation)\n",
    "    scores[i] = hits*100"
   ]
  },
  {
   "cell_type": "code",
   "execution_count": 7,
   "metadata": {},
   "outputs": [
    {
     "name": "stdout",
     "output_type": "stream",
     "text": [
      "[88.75 88.85 88.75 88.7  88.6  88.6  88.6  88.6  88.6 ]\n"
     ]
    }
   ],
   "source": [
    "# Matriz de porcentajes de aciertos obtenida\n",
    "print(scores)"
   ]
  },
  {
   "cell_type": "code",
   "execution_count": 8,
   "metadata": {},
   "outputs": [],
   "source": [
    "# Obtenemos los índices de los valores máximos\n",
    "indexes = np.where(scores == np.amax(scores))"
   ]
  },
  {
   "cell_type": "code",
   "execution_count": 9,
   "metadata": {},
   "outputs": [],
   "source": [
    "# Nos quedamos con el primer valor máximo que aparece\n",
    "c_max_index = indexes[0][0]\n",
    "c_max = C_vec[c_max_index]"
   ]
  },
  {
   "cell_type": "code",
   "execution_count": 10,
   "metadata": {},
   "outputs": [
    {
     "name": "stdout",
     "output_type": "stream",
     "text": [
      "C = 0.03 , porcentaje acertado:  86.85000000000001 %\n"
     ]
    }
   ],
   "source": [
    "# Entrenamos y observamos el resultado\n",
    "svm = skl.SVC(C=c_max, kernel = 'linear')\n",
    "svm.fit(X_train, y_train)\n",
    "y_testp = svm.predict(X_test)\n",
    "hits = np.sum(y_testp == y_test) / len(y_test)\n",
    "print(\"C =\", c_max, \", porcentaje acertado: \", hits * 100, \"%\")"
   ]
  },
  {
   "cell_type": "code",
   "execution_count": 11,
   "metadata": {},
   "outputs": [
    {
     "data": {
      "image/png": "[encoded data removed]",
      "text/plain": [
       "<Figure size 432x288 with 2 Axes>"
      ]
     },
     "metadata": {
      "needs_background": "light"
     },
     "output_type": "display_data"
    }
   ],
   "source": [
    "# Matriz de confusión\n",
    "plot_confusion_matrix(svm, X_test, y_test, cmap=plt.cm.Blues)\n",
    "plt.savefig('figures/parte4/confusion_matrix_linear.png')"
   ]
  },
  {
   "cell_type": "code",
   "execution_count": 12,
   "metadata": {},
   "outputs": [
    {
     "name": "stdout",
     "output_type": "stream",
     "text": [
      "                         precision    recall  f1-score   support\n",
      "\n",
      "neutral or dissatisfied       0.90      0.87      0.89      1180\n",
      "              satisfied       0.82      0.87      0.84       820\n",
      "\n",
      "               accuracy                           0.87      2000\n",
      "              macro avg       0.86      0.87      0.87      2000\n",
      "           weighted avg       0.87      0.87      0.87      2000\n",
      "\n"
     ]
    }
   ],
   "source": [
    "# Accuracy, precision, recall and f1\n",
    "target_names = ['neutral or dissatisfied', 'satisfied']\n",
    "print(classification_report(y_testp, y_test, target_names=target_names))"
   ]
  },
  {
   "cell_type": "markdown",
   "metadata": {},
   "source": [
    "## Kernel Gaussiano"
   ]
  },
  {
   "cell_type": "code",
   "execution_count": 13,
   "metadata": {},
   "outputs": [],
   "source": [
    "# Diferentes valores de C y sigma\n",
    "C_vec = [0.01, 0.03, 0.1, 0.3, 1, 3, 10, 30]\n",
    "sigma_vec = [0.01, 0.03, 0.1, 0.3, 1, 3, 10, 30]\n",
    "scores = np.zeros((len(C_vec), len(sigma_vec)))"
   ]
  },
  {
   "cell_type": "code",
   "execution_count": 14,
   "metadata": {},
   "outputs": [],
   "source": [
    "# Entrenamiento\n",
    "for i in range(0, len(C_vec)):\n",
    "    for j in range(0, len(sigma_vec)):\n",
    "        svm = skl.SVC(C=C_vec[i], kernel = 'rbf', gamma= 1 / (2 * sigma_vec[j]**2), cache_size=12000)\n",
    "        svm.fit(X_train, y_train)\n",
    "        y_val_p = svm.predict(X_validation)\n",
    "        hits = np.sum(y_val_p == y_validation) / len(y_validation)\n",
    "        scores[i, j] = hits*100"
   ]
  },
  {
   "cell_type": "code",
   "execution_count": 15,
   "metadata": {},
   "outputs": [
    {
     "name": "stdout",
     "output_type": "stream",
     "text": [
      "[[58.4  58.4  58.4  58.4  58.4  84.6  86.95 58.4 ]\n",
      " [58.4  58.4  58.4  58.4  58.4  88.25 88.1  74.55]\n",
      " [58.4  58.4  58.4  58.4  62.45 90.9  89.35 86.9 ]\n",
      " [58.4  58.4  58.4  58.4  73.6  92.85 90.4  88.1 ]\n",
      " [58.4  58.4  58.4  58.45 80.35 94.15 91.2  88.4 ]\n",
      " [58.4  58.4  58.4  58.5  82.3  94.1  92.6  89.05]\n",
      " [58.4  58.4  58.4  58.5  82.3  93.7  93.95 89.7 ]\n",
      " [58.4  58.4  58.4  58.5  82.3  92.8  94.4  90.45]]\n"
     ]
    }
   ],
   "source": [
    "# Matriz de porcentajes de aciertos obtenida\n",
    "print(scores)"
   ]
  },
  {
   "cell_type": "code",
   "execution_count": 16,
   "metadata": {},
   "outputs": [
    {
     "name": "stdout",
     "output_type": "stream",
     "text": [
      "[(7, 6)]\n"
     ]
    }
   ],
   "source": [
    "# Obtenemos los índices de los valores máximos\n",
    "indexes = np.where(scores == np.amax(scores))\n",
    "indexes_list = list(zip(indexes[0], indexes[1]))\n",
    "print(indexes_list)"
   ]
  },
  {
   "cell_type": "code",
   "execution_count": 17,
   "metadata": {},
   "outputs": [],
   "source": [
    "# Nos quedamos con el primer valor máximo que aparece\n",
    "c_max_index = indexes_list[0][0]\n",
    "c_max = C_vec[c_max_index]\n",
    "sigma_max_index = indexes_list[0][1]\n",
    "sigma_max = C_vec[sigma_max_index]"
   ]
  },
  {
   "cell_type": "code",
   "execution_count": 18,
   "metadata": {},
   "outputs": [
    {
     "name": "stdout",
     "output_type": "stream",
     "text": [
      "C = 30 , sigma = 10 , porcentaje acertado:  92.5 %\n"
     ]
    }
   ],
   "source": [
    "# Entrenamos y observamos el resultado\n",
    "svm = skl.SVC(C=c_max, kernel = 'rbf', gamma= 1 / (2 * sigma_max**2))\n",
    "svm.fit(X_train, y_train)\n",
    "y_testp = svm.predict(X_test)\n",
    "hits = np.sum(y_testp == y_test) / len(y_test)\n",
    "print(\"C =\", c_max, \", sigma =\", sigma_max, \", porcentaje acertado: \", hits * 100, \"%\")"
   ]
  },
  {
   "cell_type": "code",
   "execution_count": 19,
   "metadata": {},
   "outputs": [
    {
     "data": {
      "image/png": "[encoded data removed]",
      "text/plain": [
       "<Figure size 432x288 with 2 Axes>"
      ]
     },
     "metadata": {
      "needs_background": "light"
     },
     "output_type": "display_data"
    }
   ],
   "source": [
    "# Matriz de confusión\n",
    "plot_confusion_matrix(svm, X_test, y_test, cmap=plt.cm.Blues)\n",
    "plt.savefig('figures/parte4/confusion_matrix_gaussian.png')"
   ]
  },
  {
   "cell_type": "code",
   "execution_count": 20,
   "metadata": {},
   "outputs": [
    {
     "name": "stdout",
     "output_type": "stream",
     "text": [
      "                         precision    recall  f1-score   support\n",
      "\n",
      "neutral or dissatisfied       0.95      0.92      0.94      1177\n",
      "              satisfied       0.89      0.93      0.91       823\n",
      "\n",
      "               accuracy                           0.93      2000\n",
      "              macro avg       0.92      0.93      0.92      2000\n",
      "           weighted avg       0.93      0.93      0.93      2000\n",
      "\n"
     ]
    }
   ],
   "source": [
    "# Accuracy, precision, recall and f1\n",
    "target_names = ['neutral or dissatisfied', 'satisfied']\n",
    "print(classification_report(y_testp, y_test, target_names=target_names))"
   ]
  }
 ],
 "metadata": {
  "kernelspec": {
   "display_name": "Python 3",
   "language": "python",
   "name": "python3"
  },
  "language_info": {
   "codemirror_mode": {
    "name": "ipython",
    "version": 3
   },
   "file_extension": ".py",
   "mimetype": "text/x-python",
   "name": "python",
   "nbconvert_exporter": "python",
   "pygments_lexer": "ipython3",
   "version": "3.8.5"
  }
 },
 "nbformat": 4,
 "nbformat_minor": 5
}
