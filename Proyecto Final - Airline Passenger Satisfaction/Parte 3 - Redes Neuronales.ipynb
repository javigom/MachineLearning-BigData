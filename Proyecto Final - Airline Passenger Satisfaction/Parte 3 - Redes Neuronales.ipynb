{
 "cells": [
  {
   "cell_type": "markdown",
   "metadata": {},
   "source": [
    "# Proyecto Final : Airline Passenger Satisfaction\n",
    "\n",
    "# Parte 3: Redes Neuronales\n",
    "\n",
    "#### Realizado por Javier Gómez Moraleda y Unai Piris Ibañez"
   ]
  },
  {
   "cell_type": "code",
   "execution_count": 29,
   "metadata": {},
   "outputs": [],
   "source": [
    "# Imports\n",
    "import numpy as np\n",
    "import matplotlib.pyplot as plt\n",
    "import sklearn.svm as skl\n",
    "import seaborn as sebrn\n",
    "\n",
    "from pandas.io.parsers import read_csv\n",
    "from scipy.io import loadmat\n",
    "from scipy.optimize import minimize\n",
    "from sklearn.metrics import confusion_matrix\n",
    "from sklearn.metrics import classification_report"
   ]
  },
  {
   "cell_type": "markdown",
   "metadata": {},
   "source": [
    "## Carga de datos"
   ]
  },
  {
   "cell_type": "code",
   "execution_count": 2,
   "metadata": {},
   "outputs": [],
   "source": [
    "def load_csv(file_name):\n",
    "    # CSV to DataFrame\n",
    "    data = read_csv(file_name).to_numpy()\n",
    "    return data[:,1:]"
   ]
  },
  {
   "cell_type": "code",
   "execution_count": 3,
   "metadata": {},
   "outputs": [],
   "source": [
    "# Cargamos los ficheros procesados\n",
    "train = load_csv('data/processed/train_processed.csv')\n",
    "validation = load_csv('data/processed/validation_processed.csv')\n",
    "test = load_csv('data/processed/test_processed.csv')"
   ]
  },
  {
   "cell_type": "code",
   "execution_count": 4,
   "metadata": {},
   "outputs": [],
   "source": [
    "# Dividimos entre las columnas de datos y la predicción\n",
    "X_train = train[:,:-1]\n",
    "y_train = train[:,-1]\n",
    "y_train = y_train.astype(np.uint8)\n",
    "X_validation = validation[:,:-1]\n",
    "y_validation = validation[:,-1]\n",
    "y_validation = y_validation.astype(np.uint8)\n",
    "X_test = test[:,:-1]\n",
    "y_test = test[:,-1]\n",
    "y_test = y_test.astype(np.uint8)"
   ]
  },
  {
   "cell_type": "markdown",
   "metadata": {},
   "source": [
    "## Funciones utilizadas"
   ]
  },
  {
   "cell_type": "code",
   "execution_count": 5,
   "metadata": {},
   "outputs": [],
   "source": [
    "# Calcula el valor de la función sigmoide\n",
    "def sigmoid(X):\n",
    "    z = 1/(1 + np.exp(-X))\n",
    "    return z"
   ]
  },
  {
   "cell_type": "code",
   "execution_count": 6,
   "metadata": {},
   "outputs": [],
   "source": [
    "# Propagación hacia delante\n",
    "def forward_propagation(Theta1, Theta2, X):\n",
    "    m = X.shape[0]\n",
    "\n",
    "    # Input Layer\n",
    "    a1 = np.hstack([np.ones([m, 1]), X])\n",
    "    # Hidden Layer\n",
    "    z2 = np.matmul(a1, Theta1.T)\n",
    "    a2 = np.hstack([np.ones([m, 1]), sigmoid(z2)])\n",
    "    # Output Layer\n",
    "    z3 = np.matmul(a2, Theta2.T)\n",
    "    a3 = sigmoid(z3)\n",
    "    \n",
    "    return a1, a2, a3"
   ]
  },
  {
   "cell_type": "code",
   "execution_count": 7,
   "metadata": {},
   "outputs": [],
   "source": [
    "# Función de coste\n",
    "def cost(Theta1, Theta2, X, y):\n",
    "    a1, a2, H = forward_propagation(Theta1, Theta2, X)\n",
    "    Term1 = y * np.log(H)\n",
    "    Term2 =  (1 - y) * np.log(1 - H)\n",
    "    coste = (- 1 / (len(y))) * np.sum(Term1 + Term2)\n",
    "\n",
    "    return coste"
   ]
  },
  {
   "cell_type": "code",
   "execution_count": 8,
   "metadata": {},
   "outputs": [],
   "source": [
    "# Función de coste con regularización\n",
    "def cost_reg(Theta1, Theta2, X, y, lam):\n",
    "    coste = cost(Theta1, Theta2, X, y)\n",
    "    Term3 = np.sum(np.square(Theta1[:,1:])) + np.sum(np.square(Theta2[:,1:]))     \n",
    "    coste += (lam / (2 * len(y))) * Term3\n",
    "    \n",
    "    return coste"
   ]
  },
  {
   "cell_type": "code",
   "execution_count": 9,
   "metadata": {},
   "outputs": [],
   "source": [
    "# Calculo de onehot\n",
    "def one_hot(y, num_etiquetas):\n",
    "    m = len(y)\n",
    "    y_onehot = np.zeros((m, num_etiquetas))\n",
    "    \n",
    "    for i in range(m):\n",
    "        y_onehot[i][y[i]] = 1\n",
    "    \n",
    "    return y_onehot"
   ]
  },
  {
   "cell_type": "code",
   "execution_count": 10,
   "metadata": {},
   "outputs": [],
   "source": [
    "# Función que calcula la propagación hacia atrás\n",
    "def back_propagation(params_rn, num_entradas, num_ocultas, num_etiquetas, X, y, reg):\n",
    "    \n",
    "    # backprop devuelve una tupla (coste, gradiente) con el coste y el gradiente de\n",
    "    # una red neuronal de tres capas, con num_entradas, num_ocultas nodos en la capa\n",
    "    # oculta y num_etiquetas nodos en la capa de salida. Si m es el número de ejemplos\n",
    "    # de entrenamiento, la dimensión de ’X’ es (m, num_entradas) y la de ’y’ es\n",
    "    # (m, num_etiquetas)\n",
    "    \n",
    "    # Theta1 y Theta2 están codificados como un array unidimensional\n",
    "    Theta1 = np.reshape(params_rn[:num_ocultas * (num_entradas + 1)], (num_ocultas, (num_entradas + 1)))\n",
    "    Theta2 = np.reshape(params_rn[num_ocultas * (num_entradas + 1):], (num_etiquetas, (num_ocultas + 1)))\n",
    "    \n",
    "    m = len(y)\n",
    "    \n",
    "    # Matrices para almacenar el gradiente con las mismas dimensiones que Theta1 y Theta2\n",
    "    Delta1 = np.zeros(np.shape(Theta1))\n",
    "    Delta2 = np.zeros(np.shape(Theta2))\n",
    "    \n",
    "    # Propagación hacia delante\n",
    "    a1, a2, H = forward_propagation(Theta1, Theta2, X)\n",
    "    \n",
    "    # Contribución de cada nodo al error de la salida\n",
    "    d3 = H - y\n",
    "    d2 = (np.dot(d3,Theta2) * (a2 * (1 - a2)))[:,1:]  \n",
    "    Delta1 = np.dot(d2.T, a1)\n",
    "    Delta2 = np.dot(d3.T, a2)\n",
    "    \n",
    "    # Añadimos regularización\n",
    "    Delta1 = Delta1/m\n",
    "    Delta2 = Delta2/m\n",
    "    Delta1[:,1:] = Delta1[:,1:] + (reg/m)*Theta1[:,1:]\n",
    "    Delta2[:,1:] = Delta2[:,1:] + (reg/m)*Theta2[:,1:]\n",
    "    \n",
    "    # Devolvemos el coste y el gradiente\n",
    "    coste = cost_reg(Theta1, Theta2, X, y,reg)\n",
    "    grad = np.concatenate((np.ravel(Delta1),np.ravel(Delta2)))\n",
    "    \n",
    "    return coste, grad "
   ]
  },
  {
   "cell_type": "code",
   "execution_count": 11,
   "metadata": {},
   "outputs": [],
   "source": [
    "# Entrena una red neuronal con reg como término de regularización y num_iters como número de iteraciones\n",
    "def training(reg, num_iters,params_rn,num_entradas,num_ocultas,num_etiquetas,X,y_onehot):\n",
    "    \n",
    "    # Entrenamos la red neuronal\n",
    "    fmin = minimize(fun=back_propagation, x0=params_rn,\n",
    "                args=(num_entradas, num_ocultas,\n",
    "                num_etiquetas, X, y_onehot, reg),\n",
    "                method='TNC', jac=True,\n",
    "                options={'maxiter': num_iters})\n",
    "\n",
    "    # Reordenamos Theta1 y Theta2\n",
    "    Theta1 = np.reshape(fmin.x[:num_ocultas*(num_entradas + 1)],(num_ocultas,(num_entradas + 1)))\n",
    "    Theta2 = np.reshape(fmin.x[num_ocultas * (num_entradas+1):],(num_etiquetas,(num_ocultas + 1)))\n",
    "    #result = forward_propagation(Theta1,Theta2, X)[2]\n",
    "    \n",
    "    return Theta1, Theta2"
   ]
  },
  {
   "cell_type": "code",
   "execution_count": 12,
   "metadata": {},
   "outputs": [],
   "source": [
    "# Calcula el porcentaje de aciertos de un resultado\n",
    "def success_rate(result, y):\n",
    "    \n",
    "    predicciones = []\n",
    "    for i in range(len(result)):\n",
    "        predicciones.append(np.argmax(result[i]))\n",
    "    \n",
    "    aciertos = 0\n",
    "    for i in range(len(y)):\n",
    "        if (predicciones[i] == y[i]):\n",
    "            aciertos +=1\n",
    "            \n",
    "    return (aciertos/len(y)*100)"
   ]
  },
  {
   "cell_type": "code",
   "execution_count": 13,
   "metadata": {},
   "outputs": [],
   "source": [
    "# Entrenamiento con diferentes neuronas en la capa oculta\n",
    "def test_neurons(num_ocultas):\n",
    "    y_train_onehot = one_hot(y_train, 2)\n",
    "    eInit = 0.12\n",
    "    num_entradas = X_train.shape[1]\n",
    "    num_etiquetas = 2\n",
    "    theta1 = np.random.random((num_ocultas,(num_entradas + 1)))*(2*eInit) - eInit\n",
    "    theta2 = np.random.random((num_etiquetas,(num_ocultas + 1)))*(2*eInit) - eInit\n",
    "    params_rn = np.concatenate((np.ravel(theta1), np.ravel(theta2)))\n",
    "    \n",
    "    reg_terms = [0.01, 0.1, 1, 3, 7, 10]\n",
    "    iter_terms = np.arange(0, 200, 10)\n",
    "    scores = np.zeros((len(reg_terms), len(iter_terms)))\n",
    "    \n",
    "    for i, reg in enumerate(reg_terms):\n",
    "        porcentajes = []\n",
    "        for j, iters in enumerate(iter_terms):\n",
    "            Theta1, Theta2 = training(reg, iters, params_rn, num_entradas, num_ocultas, num_etiquetas, X_train, y_train_onehot)\n",
    "            result = forward_propagation(Theta1, Theta2, X_validation)[2]\n",
    "            porcentajes.append(success_rate(result, y_validation))\n",
    "            scores[i,j] = success_rate(result, y_validation)\n",
    "        \n",
    "        # Pintamos la gráfica\n",
    "        plt.plot(iter_terms, porcentajes, label='reg = ' + str(reg))\n",
    "\n",
    "    plt.xlabel(\"Número de iteraciones\")\n",
    "    plt.ylabel(\"Porcentaje de aciertos\")\n",
    "    plt.legend()\n",
    "    plt.show()\n",
    "    \n",
    "    print(\"Scores: \", scores, \"\\n\")\n",
    "    \n",
    "    # Obtenemos los índices de los valores máximos\n",
    "    indexes = np.where(scores == np.amax(scores))\n",
    "    indexes_list = list(zip(indexes[0], indexes[1]))\n",
    "    \n",
    "    # Nos quedamos con el primer valor máximo que aparece\n",
    "    reg_max_index = indexes_list[0][0]\n",
    "    reg_max = reg_terms[reg_max_index]\n",
    "    iter_max_index = indexes_list[0][1]\n",
    "    iter_max = iter_terms[iter_max_index]\n",
    "    \n",
    "    print(\"reg_max =\", reg_max, \", iter_max =\", iter_max, \", porcentaje acertado: \", scores[reg_max_index][iter_max_index], \"%\")\n",
    "    "
   ]
  },
  {
   "cell_type": "markdown",
   "metadata": {},
   "source": [
    "## Comprobando resultados"
   ]
  },
  {
   "cell_type": "code",
   "execution_count": 14,
   "metadata": {},
   "outputs": [
    {
     "data": {
      "image/png": "[encoded data removed]",
      "text/plain": [
       "<Figure size 432x288 with 1 Axes>"
      ]
     },
     "metadata": {
      "needs_background": "light"
     },
     "output_type": "display_data"
    },
    {
     "name": "stdout",
     "output_type": "stream",
     "text": [
      "Scores:  [[41.55 86.75 88.35 88.25 88.9  89.5  90.4  91.5  92.5  92.65 92.25 92.55\n",
      "  92.1  92.8  92.25 92.7  93.1  93.1  93.4  93.3 ]\n",
      " [41.55 86.75 88.35 88.2  88.9  90.45 91.15 91.65 91.65 91.65 91.65 91.65\n",
      "  91.6  91.6  92.85 93.05 92.8  92.8  93.05 93.05]\n",
      " [41.55 86.65 88.4  88.3  88.85 90.9  90.75 92.2  93.   92.85 92.85 92.85\n",
      "  93.   93.9  93.3  93.75 93.75 94.45 94.45 94.4 ]\n",
      " [41.55 86.65 88.45 88.4  89.1  90.15 92.1  92.25 92.25 93.2  93.3  93.5\n",
      "  93.35 93.95 93.45 94.45 94.15 94.25 94.45 94.45]\n",
      " [41.55 86.7  88.45 88.95 89.25 89.75 90.95 92.4  92.6  92.55 92.9  92.7\n",
      "  93.1  93.05 93.05 93.55 93.55 93.45 93.5  93.75]\n",
      " [41.55 86.75 88.4  88.2  88.45 91.05 91.55 91.15 91.15 91.15 91.15 91.15\n",
      "  93.   93.   93.   93.6  93.05 93.15 93.3  93.3 ]] \n",
      "\n",
      "reg_max = 1 , iter_max = 170 , porcentaje acertado:  94.45 %\n"
     ]
    }
   ],
   "source": [
    "test_neurons(5)"
   ]
  },
  {
   "cell_type": "code",
   "execution_count": 15,
   "metadata": {},
   "outputs": [
    {
     "data": {
      "image/png": "[encoded data removed]",
      "text/plain": [
       "<Figure size 432x288 with 1 Axes>"
      ]
     },
     "metadata": {
      "needs_background": "light"
     },
     "output_type": "display_data"
    },
    {
     "name": "stdout",
     "output_type": "stream",
     "text": [
      "Scores:  [[58.4  86.8  88.85 88.55 88.5  90.8  92.1  92.85 92.85 93.1  93.2  93.45\n",
      "  93.45 93.3  93.65 93.25 92.95 92.95 93.35 93.25]\n",
      " [58.4  86.8  88.85 88.55 88.5  90.5  91.55 91.55 92.5  93.   93.7  93.5\n",
      "  93.4  93.8  93.6  93.9  93.4  93.55 93.4  93.4 ]\n",
      " [58.4  86.75 88.65 88.45 90.   90.5  92.3  92.8  93.45 93.45 93.55 94.15\n",
      "  94.15 94.15 94.55 94.55 94.15 94.5  94.5  94.5 ]\n",
      " [58.4  86.8  88.9  88.45 88.4  91.4  90.95 90.95 90.95 90.95 90.95 93.25\n",
      "  93.7  93.55 94.05 93.7  93.9  94.15 94.15 94.25]\n",
      " [58.4  86.75 88.6  88.35 89.15 91.25 92.75 92.75 93.7  93.5  94.   94.\n",
      "  94.   94.05 94.05 93.9  93.9  94.05 94.05 94.35]\n",
      " [58.4  86.75 85.95 88.6  89.15 90.15 91.45 92.9  92.9  92.9  93.25 93.4\n",
      "  93.45 93.8  93.8  93.95 93.95 93.95 93.85 93.85]] \n",
      "\n",
      "reg_max = 1 , iter_max = 140 , porcentaje acertado:  94.55 %\n"
     ]
    }
   ],
   "source": [
    "test_neurons(15)"
   ]
  },
  {
   "cell_type": "code",
   "execution_count": 16,
   "metadata": {},
   "outputs": [
    {
     "data": {
      "image/png": "[encoded data removed]",
      "text/plain": [
       "<Figure size 432x288 with 1 Axes>"
      ]
     },
     "metadata": {
      "needs_background": "light"
     },
     "output_type": "display_data"
    },
    {
     "name": "stdout",
     "output_type": "stream",
     "text": [
      "Scores:  [[58.4  86.85 88.15 88.2  89.45 90.2  91.8  92.05 92.55 93.65 93.65 94.\n",
      "  94.   93.85 93.8  93.9  93.9  93.55 93.3  93.4 ]\n",
      " [58.4  86.85 88.15 88.55 89.65 91.15 92.4  92.4  92.7  93.   93.35 93.15\n",
      "  93.5  93.5  93.25 93.35 93.1  93.05 93.2  93.3 ]\n",
      " [58.4  86.8  88.15 88.4  90.   91.3  92.2  92.2  92.75 93.25 93.7  93.7\n",
      "  94.05 93.9  93.9  94.1  94.1  94.5  94.15 94.  ]\n",
      " [58.4  86.8  88.2  88.05 90.15 90.95 92.2  92.6  93.2  93.2  93.9  93.85\n",
      "  93.85 94.4  94.65 94.45 94.5  94.3  94.45 94.75]\n",
      " [58.4  86.7  86.7  88.35 88.75 90.2  91.8  92.45 92.35 92.35 92.35 92.35\n",
      "  92.35 93.7  93.55 93.55 93.95 93.8  94.35 94.1 ]\n",
      " [58.4  86.65 86.65 88.55 89.15 90.55 92.35 92.55 93.15 93.1  93.4  93.8\n",
      "  93.6  93.8  93.8  93.8  93.85 93.85 94.   94.1 ]] \n",
      "\n",
      "reg_max = 3 , iter_max = 190 , porcentaje acertado:  94.75 %\n"
     ]
    }
   ],
   "source": [
    "test_neurons(25)"
   ]
  },
  {
   "cell_type": "code",
   "execution_count": 17,
   "metadata": {},
   "outputs": [
    {
     "name": "stderr",
     "output_type": "stream",
     "text": [
      "<ipython-input-7-cbeee0bb4e66>:5: RuntimeWarning: divide by zero encountered in log\n",
      "  Term2 =  (1 - y) * np.log(1 - H)\n",
      "<ipython-input-7-cbeee0bb4e66>:5: RuntimeWarning: invalid value encountered in multiply\n",
      "  Term2 =  (1 - y) * np.log(1 - H)\n"
     ]
    },
    {
     "data": {
      "image/png": "[encoded data removed]",
      "text/plain": [
       "<Figure size 432x288 with 1 Axes>"
      ]
     },
     "metadata": {
      "needs_background": "light"
     },
     "output_type": "display_data"
    },
    {
     "name": "stdout",
     "output_type": "stream",
     "text": [
      "Scores:  [[41.6  86.05 88.25 88.5  89.15 91.45 91.35 93.15 93.15 93.15 94.   94.5\n",
      "  94.3  94.5  94.5  94.25 93.25 93.25 93.45 92.85]\n",
      " [41.6  86.05 88.25 88.5  89.6  91.55 91.25 92.85 92.85 93.4  93.55 93.55\n",
      "  93.95 93.6  94.   94.5  93.5  93.4  93.1  93.1 ]\n",
      " [41.6  86.05 88.2  88.6  90.1  90.45 92.25 93.25 93.55 94.15 94.05 94.2\n",
      "  94.7  94.55 94.45 94.5  94.55 94.5  94.35 93.95]\n",
      " [41.6  86.05 88.05 88.3  88.65 91.15 92.4  92.85 92.85 94.15 93.85 94.65\n",
      "  94.3  94.3  94.4  94.85 94.4  94.65 94.65 94.65]\n",
      " [41.6  86.   88.25 88.3  88.7  89.65 90.2  91.6  92.85 92.9  93.1  93.25\n",
      "  94.1  93.65 94.65 94.5  94.55 94.65 94.4  94.65]\n",
      " [41.6  86.   88.1  88.45 88.8  90.25 90.   91.5  92.75 92.4  93.45 94.\n",
      "  93.8  93.8  94.05 94.1  94.25 94.25 94.2  94.2 ]] \n",
      "\n",
      "reg_max = 3 , iter_max = 150 , porcentaje acertado:  94.85 %\n"
     ]
    }
   ],
   "source": [
    "test_neurons(50)"
   ]
  },
  {
   "cell_type": "code",
   "execution_count": 25,
   "metadata": {},
   "outputs": [
    {
     "data": {
      "text/plain": [
       "93.55"
      ]
     },
     "execution_count": 25,
     "metadata": {},
     "output_type": "execute_result"
    }
   ],
   "source": [
    "eInit = 0.12\n",
    "num_entradas = X_train.shape[1]\n",
    "num_ocultas = 25\n",
    "num_etiquetas = 2\n",
    "theta1 = np.random.random((num_ocultas,(num_entradas + 1)))*(2*eInit) - eInit\n",
    "theta2 = np.random.random((num_etiquetas,(num_ocultas + 1)))*(2*eInit) - eInit\n",
    "params_rn = np.concatenate((np.ravel(theta1), np.ravel(theta2)))\n",
    "y_train_onehot = one_hot(y_train, 2)\n",
    "\n",
    "Theta1, Theta2 = training(3, 200, params_rn, num_entradas, num_ocultas, num_etiquetas, X_train, y_train_onehot)\n",
    "result = forward_propagation(Theta1, Theta2, X_test)[2]\n",
    "success_rate(result, y_test)"
   ]
  },
  {
   "cell_type": "code",
   "execution_count": 30,
   "metadata": {},
   "outputs": [
    {
     "data": {
      "image/png": "[encoded data removed]",
      "text/plain": [
       "<Figure size 432x288 with 2 Axes>"
      ]
     },
     "metadata": {
      "needs_background": "light"
     },
     "output_type": "display_data"
    }
   ],
   "source": [
    "y_test_pred = []\n",
    "for i in range(len(result)):\n",
    "    y_test_pred.append(np.argmax(result[i]))\n",
    "    \n",
    "# Matriz de confusión\n",
    "conf_matrix = confusion_matrix(y_test, y_test_pred)\n",
    "\n",
    "# Using Seaborn heatmap to create the plot\n",
    "fx = sebrn.heatmap(conf_matrix, annot=True, fmt=\"d\", cmap='Blues')\n",
    "\n",
    "# labels the title and x, y axis of plot\n",
    "fx.set_xlabel('Predicted label')\n",
    "fx.set_ylabel('True label ');\n",
    "\n",
    "plt.savefig('figures/parte3/confusion_matrix.png')"
   ]
  },
  {
   "cell_type": "code",
   "execution_count": 31,
   "metadata": {},
   "outputs": [
    {
     "name": "stdout",
     "output_type": "stream",
     "text": [
      "                         precision    recall  f1-score   support\n",
      "\n",
      "neutral or dissatisfied       0.96      0.93      0.94      1168\n",
      "              satisfied       0.91      0.94      0.92       832\n",
      "\n",
      "               accuracy                           0.94      2000\n",
      "              macro avg       0.93      0.94      0.93      2000\n",
      "           weighted avg       0.94      0.94      0.94      2000\n",
      "\n"
     ]
    }
   ],
   "source": [
    "# Accuracy, precision, recall and f1\n",
    "target_names = ['neutral or dissatisfied', 'satisfied']\n",
    "print(classification_report(y_test_pred, y_test, target_names=target_names))"
   ]
  }
 ],
 "metadata": {
  "kernelspec": {
   "display_name": "Python 3",
   "language": "python",
   "name": "python3"
  },
  "language_info": {
   "codemirror_mode": {
    "name": "ipython",
    "version": 3
   },
   "file_extension": ".py",
   "mimetype": "text/x-python",
   "name": "python",
   "nbconvert_exporter": "python",
   "pygments_lexer": "ipython3",
   "version": "3.8.5"
  }
 },
 "nbformat": 4,
 "nbformat_minor": 4
}
