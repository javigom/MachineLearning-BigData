{
 "cells": [
  {
   "cell_type": "markdown",
   "metadata": {},
   "source": [
    "# Práctica 4 : Regresión lineal regularizada: sesgo y varianza\n",
    "#### Realizado por Javier Gómez Moraleda y Unai Piris Ibañez"
   ]
  },
  {
   "cell_type": "code",
   "execution_count": 158,
   "metadata": {},
   "outputs": [],
   "source": [
    "# Imports\n",
    "import numpy as np\n",
    "import matplotlib.pyplot as plt\n",
    "import scipy.optimize as opt\n",
    "from scipy.io import loadmat"
   ]
  },
  {
   "cell_type": "code",
   "execution_count": 114,
   "metadata": {},
   "outputs": [],
   "source": [
    "# Cargamos el fichero de datos\n",
    "data = loadmat('ex5data1.mat')\n",
    "\n",
    "# Datos de entrenamiento (12, 1)\n",
    "X = data['X']\n",
    "y = data['y'].ravel()\n",
    "\n",
    "# Ejemplos de validación (21, 2)\n",
    "Xval = data['Xval'] \n",
    "yval = data['yval'].ravel()\n",
    "\n",
    "# Ejemplos de prueba (21, 2)\n",
    "Xtest = data['Xtest']\n",
    "ytest = data['ytest'].ravel()"
   ]
  },
  {
   "cell_type": "markdown",
   "metadata": {},
   "source": [
    "## Regresión lineal regularizada"
   ]
  },
  {
   "cell_type": "code",
   "execution_count": 141,
   "metadata": {},
   "outputs": [],
   "source": [
    "# Cálculo del coste regularizado\n",
    "def cost_reg(Thetas, X, y, lam):\n",
    "    \n",
    "    # Número de filas\n",
    "    m = np.shape(X)[0]\n",
    "    \n",
    "    # Hipótesis\n",
    "    H = np.dot(X, Thetas)\n",
    "    \n",
    "    # Coste + regularización\n",
    "    Term1 = (1 / (2*m)) * np.sum(np.square((H - y)))\n",
    "    Term2 = (lam / (2*m)) * np.sum(np.square(Thetas[1:]))\n",
    "    \n",
    "    return Term1 + Term2"
   ]
  },
  {
   "cell_type": "code",
   "execution_count": 142,
   "metadata": {},
   "outputs": [],
   "source": [
    "# Calcula el gradiente regularizado\n",
    "def gradient_reg(Thetas, X, y, lam):\n",
    "    \n",
    "    # Número de filas\n",
    "    m = np.shape(X)[0]\n",
    "\n",
    "    # Hipótesis\n",
    "    H = np.dot(X, Thetas)\n",
    "    \n",
    "    # Gradiente + regularización\n",
    "    Term1 = (1 / m) * np.matmul(H - y, X)\n",
    "    Term2 = (lam / (2*m)) * np.sum(Thetas[1:])\n",
    "\n",
    "    return Term1 + Term2"
   ]
  },
  {
   "cell_type": "markdown",
   "metadata": {},
   "source": [
    "### Probando nuestras funciones\n",
    "Vamos a probar si realiza el cálculo del coste y el gradiente de forma correcta. para ello vamos a inicializar el parámetro de reguularización y el vector de Thetas a 1."
   ]
  },
  {
   "cell_type": "code",
   "execution_count": 150,
   "metadata": {},
   "outputs": [],
   "source": [
    "# Inicialización de variables\n",
    "Thetas = np.ones(np.shape(X)[1] + 1)\n",
    "lam = 1\n",
    "X_1 = np.hstack([np.ones([m, 1]), X])"
   ]
  },
  {
   "cell_type": "code",
   "execution_count": 151,
   "metadata": {},
   "outputs": [
    {
     "name": "stdout",
     "output_type": "stream",
     "text": [
      "Coste para lambda= 1 y Thetas= [1. 1.] :  303.9931922202643\n"
     ]
    }
   ],
   "source": [
    "# El coste debería salir 303,993\n",
    "coste = cost_reg(Thetas, X_1, y, lam)\n",
    "print(\"Coste para lambda=\", lam, \"y Thetas=\", Thetas, \": \", coste)"
   ]
  },
  {
   "cell_type": "code",
   "execution_count": 152,
   "metadata": {},
   "outputs": [
    {
     "name": "stdout",
     "output_type": "stream",
     "text": [
      "Gradiente para lambda= 1 y Thetas= [1. 1.] :  [-15.26134901 598.20907751]\n"
     ]
    }
   ],
   "source": [
    "# El gradiente debería salir [−15,303; 598,250]\n",
    "gradiente = gradient_reg(Thetas, X_1, y, lam)\n",
    "print(\"Gradiente para lambda=\", lam, \"y Thetas=\", Thetas, \": \", gradiente)"
   ]
  },
  {
   "cell_type": "markdown",
   "metadata": {},
   "source": [
    "### Valor óptimo de Thetas\n",
    "Vamos a buscar el valor óptimo que minimiza el error sobre los ejemplos de entrenamiento. Vamos a fijar el valor de lambda a 0 porque teneos pocos parámetros."
   ]
  },
  {
   "cell_type": "code",
   "execution_count": 155,
   "metadata": {},
   "outputs": [],
   "source": [
    "# Obtenemos resultados óptimos\n",
    "result = opt.fmin_tnc(func=cost_reg, x0=Thetas, fprime=gradient_reg, args=(X_1, y, 0))"
   ]
  },
  {
   "cell_type": "code",
   "execution_count": 179,
   "metadata": {},
   "outputs": [
    {
     "data": {
      "text/plain": [
       "[<matplotlib.lines.Line2D at 0x24383b59eb0>]"
      ]
     },
     "execution_count": 179,
     "metadata": {},
     "output_type": "execute_result"
    },
    {
     "data": {
      "image/png": "[encoded data removed]",
      "text/plain": [
       "<Figure size 432x288 with 1 Axes>"
      ]
     },
     "metadata": {
      "needs_background": "light"
     },
     "output_type": "display_data"
    }
   ],
   "source": [
    "# Pintado de las gráficas\n",
    "plt.figure()\n",
    "plt.xlabel(\"Change in water level (X)\")\n",
    "plt.ylabel(\"Water flowing out of the dam (y)\")\n",
    "plt.plot(X, y, \"x\", color=\"red\")\n",
    "plt.plot(X, np.dot(X_1, result[0]), color=\"blue\")"
   ]
  },
  {
   "cell_type": "code",
   "execution_count": null,
   "metadata": {},
   "outputs": [],
   "source": []
  }
 ],
 "metadata": {
  "kernelspec": {
   "display_name": "Python 3",
   "language": "python",
   "name": "python3"
  },
  "language_info": {
   "codemirror_mode": {
    "name": "ipython",
    "version": 3
   },
   "file_extension": ".py",
   "mimetype": "text/x-python",
   "name": "python",
   "nbconvert_exporter": "python",
   "pygments_lexer": "ipython3",
   "version": "3.8.5"
  }
 },
 "nbformat": 4,
 "nbformat_minor": 4
}
