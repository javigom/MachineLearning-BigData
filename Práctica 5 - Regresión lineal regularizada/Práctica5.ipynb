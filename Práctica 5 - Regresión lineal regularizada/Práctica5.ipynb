{
 "cells": [
  {
   "cell_type": "markdown",
   "metadata": {},
   "source": [
    "# Práctica 5 : Regresión lineal regularizada: sesgo y varianza\n",
    "#### Realizado por Javier Gómez Moraleda y Unai Piris Ibañez"
   ]
  },
  {
   "cell_type": "code",
   "execution_count": 1,
   "metadata": {},
   "outputs": [],
   "source": [
    "# Imports\n",
    "import numpy as np\n",
    "import matplotlib.pyplot as plt\n",
    "import scipy.optimize as opt\n",
    "from scipy.io import loadmat\n",
    "from sklearn.preprocessing import PolynomialFeatures\n",
    "from sklearn.preprocessing import StandardScaler"
   ]
  },
  {
   "cell_type": "code",
   "execution_count": 2,
   "metadata": {},
   "outputs": [],
   "source": [
    "# Cargamos el fichero de datos\n",
    "data = loadmat('ex5data1.mat')\n",
    "\n",
    "# Datos de entrenamiento (12, 1)\n",
    "X = data['X']\n",
    "y = data['y'].ravel()\n",
    "\n",
    "# Ejemplos de validación (21, 2)\n",
    "Xval = data['Xval'] \n",
    "yval = data['yval'].ravel()\n",
    "\n",
    "# Ejemplos de prueba (21, 2)\n",
    "Xtest = data['Xtest']\n",
    "ytest = data['ytest'].ravel()"
   ]
  },
  {
   "cell_type": "markdown",
   "metadata": {},
   "source": [
    "## Parte 1 - Regresión lineal regularizada"
   ]
  },
  {
   "cell_type": "code",
   "execution_count": 3,
   "metadata": {},
   "outputs": [],
   "source": [
    "# Cálculo del coste regularizado\n",
    "def cost_reg(Thetas, X, y, lam):\n",
    "    \n",
    "    # Número de filas\n",
    "    m = np.shape(X)[0]\n",
    "    \n",
    "    # Hipótesis\n",
    "    H = np.dot(X, Thetas)\n",
    "    \n",
    "    # Coste + regularización\n",
    "    Term1 = (1 / (2*m)) * np.sum(np.square((H - y)))\n",
    "    Term2 = (lam / (2*m)) * np.sum(np.square(Thetas[1:]))\n",
    "    \n",
    "    \n",
    "    return Term1 + Term2"
   ]
  },
  {
   "cell_type": "code",
   "execution_count": 4,
   "metadata": {},
   "outputs": [],
   "source": [
    "# Calcula el gradiente regularizado\n",
    "def gradient_reg(Thetas, X, y, lam):\n",
    "    \n",
    "    # Número de filas\n",
    "    m = np.shape(X)[0]\n",
    "\n",
    "    # Hipótesis\n",
    "    H = np.dot(X, Thetas)\n",
    "    \n",
    "    # Gradiente + regularización\n",
    "    result = (1 / m) * np.matmul(H - y, X)\n",
    "    result[1:] += (lam / (m)) * np.sum(Thetas[1:])\n",
    "\n",
    "    return result"
   ]
  },
  {
   "cell_type": "code",
   "execution_count": 5,
   "metadata": {},
   "outputs": [],
   "source": [
    "# Función para pintar la gráfica\n",
    "def draw_graph(X, y, Z1, Z2):\n",
    "    plt.figure()\n",
    "    plt.xlabel(\"Change in water level (X)\")\n",
    "    plt.ylabel(\"Water flowing out of the dam (y)\")\n",
    "    \n",
    "    # Datos de entrenamiento\n",
    "    plt.plot(X, y, \"x\", color=\"red\")\n",
    "    # Funcion generada\n",
    "    plt.plot(Z1, np.dot(Z2, result[0]), color=\"blue\")"
   ]
  },
  {
   "cell_type": "markdown",
   "metadata": {},
   "source": [
    "### Observando resultados\n",
    "Vamos a probar si realiza el cálculo del coste y el gradiente de forma correcta. para ello vamos a inicializar el parámetro de regularización y el vector de Thetas a 1."
   ]
  },
  {
   "cell_type": "code",
   "execution_count": 6,
   "metadata": {},
   "outputs": [],
   "source": [
    "# Inicialización de variables\n",
    "Thetas = np.ones(np.shape(X)[1] + 1)\n",
    "lam = 1\n",
    "X_1 = np.hstack([np.ones([np.shape(X)[0], 1]), X])"
   ]
  },
  {
   "cell_type": "code",
   "execution_count": 7,
   "metadata": {},
   "outputs": [
    {
     "name": "stdout",
     "output_type": "stream",
     "text": [
      "Coste para lambda= 1 y Thetas= [1. 1.] :  303.9931922202643\n"
     ]
    }
   ],
   "source": [
    "# El coste debería salir 303,993\n",
    "coste = cost_reg(Thetas, X_1, y, lam)\n",
    "print(\"Coste para lambda=\", lam, \"y Thetas=\", Thetas, \": \", coste)"
   ]
  },
  {
   "cell_type": "code",
   "execution_count": 8,
   "metadata": {},
   "outputs": [
    {
     "name": "stdout",
     "output_type": "stream",
     "text": [
      "Gradiente para lambda= 1 y Thetas= [1. 1.] :  [-15.30301567 598.25074417]\n"
     ]
    }
   ],
   "source": [
    "# El gradiente debería salir [−15,303; 598,250]\n",
    "gradiente = gradient_reg(Thetas, X_1, y, lam)\n",
    "print(\"Gradiente para lambda=\", lam, \"y Thetas=\", Thetas, \": \", gradiente)"
   ]
  },
  {
   "cell_type": "markdown",
   "metadata": {},
   "source": [
    "### Valor óptimo de Thetas\n",
    "Vamos a buscar el valor óptimo que minimiza el error sobre los ejemplos de entrenamiento. Vamos a fijar el valor de lambda a 0 porque teneos pocos parámetros."
   ]
  },
  {
   "cell_type": "code",
   "execution_count": 9,
   "metadata": {},
   "outputs": [],
   "source": [
    "# Obtenemos resultados óptimos\n",
    "result = opt.fmin_tnc(func=cost_reg, x0=Thetas, fprime=gradient_reg, args=(X_1, y, 0))"
   ]
  },
  {
   "cell_type": "code",
   "execution_count": 10,
   "metadata": {},
   "outputs": [
    {
     "data": {
      "image/png": "[encoded data removed]",
      "text/plain": [
       "<Figure size 432x288 with 1 Axes>"
      ]
     },
     "metadata": {
      "needs_background": "light"
     },
     "output_type": "display_data"
    }
   ],
   "source": [
    "# Pintado de las gráficas\n",
    "draw_graph(X, y, X, X_1)"
   ]
  },
  {
   "cell_type": "markdown",
   "metadata": {},
   "source": [
    "## Parte 2 - Curvas de aprendizaje"
   ]
  },
  {
   "cell_type": "code",
   "execution_count": 11,
   "metadata": {},
   "outputs": [],
   "source": [
    "# Se añade una columna de 1's sobre los ejemplos de validación\n",
    "Xval_1 = np.hstack([np.ones([np.shape(Xval)[0], 1]), Xval])\n",
    "\n",
    "# Arrays de errores \n",
    "erroresX = np.zeros((X.shape[0],))\n",
    "erroresXval = np.zeros((X.shape[0],))"
   ]
  },
  {
   "cell_type": "code",
   "execution_count": 12,
   "metadata": {},
   "outputs": [],
   "source": [
    "# Cálculo del error para distinta cantidad de datos de entrenamiento\n",
    "for i in range(1, X.shape[0]):\n",
    "    ejemplaresX = np.hstack([np.ones((i, 1)),X[0:i]])\n",
    "    ejemplaresy = y[0:i]\n",
    "    result = opt.fmin_tnc(func=cost_reg, x0=Thetas, fprime=gradient_reg, args=(ejemplaresX, ejemplaresy, 0))\n",
    "    erroresX[i] = cost_reg(result[0], ejemplaresX, ejemplaresy,0)\n",
    "    erroresXval[i] = cost_reg(result[0], Xval_1, yval,0)"
   ]
  },
  {
   "cell_type": "code",
   "execution_count": 13,
   "metadata": {},
   "outputs": [
    {
     "data": {
      "image/png": "[encoded data removed]",
      "text/plain": [
       "<Figure size 432x288 with 1 Axes>"
      ]
     },
     "metadata": {
      "needs_background": "light"
     },
     "output_type": "display_data"
    }
   ],
   "source": [
    "# Pintado de las gráficas\n",
    "ejeX = range(0,X.shape[0])\n",
    "plt.figure()\n",
    "plt.plot(ejeX[1:], erroresX[1:], 'b', label = \"Entrenamiento\")\n",
    "plt.plot(ejeX[1:], erroresXval[1:], 'orange', label = \"Validacion\")\n",
    "plt.xlabel(\"Cantidad de ejemplos de entrenamiento\")\n",
    "plt.ylabel(\"Error\")\n",
    "plt.legend(loc = 0)\n",
    "plt.show()"
   ]
  },
  {
   "cell_type": "markdown",
   "metadata": {},
   "source": [
    "## Parte 3 - Regresion polinomial"
   ]
  },
  {
   "cell_type": "code",
   "execution_count": 14,
   "metadata": {},
   "outputs": [],
   "source": [
    "# Genera el polinomio\n",
    "def make_data(X, grado):\n",
    "    poly = PolynomialFeatures(grado)\n",
    "    X = poly.fit_transform(X)\n",
    "    return X"
   ]
  },
  {
   "cell_type": "code",
   "execution_count": 15,
   "metadata": {},
   "outputs": [],
   "source": [
    "# Normalización con StandardScaler\n",
    "def normalizar(X):\n",
    "    Scaler = StandardScaler()\n",
    "    X = Scaler.fit_transform(X)\n",
    "    mu = Scaler.mean_\n",
    "    sigma = Scaler.scale_\n",
    "    return X, mu, sigma"
   ]
  },
  {
   "cell_type": "markdown",
   "metadata": {},
   "source": [
    "### Observando resultados"
   ]
  },
  {
   "cell_type": "code",
   "execution_count": 16,
   "metadata": {},
   "outputs": [],
   "source": [
    "# Inicialización de los datos\n",
    "X_poly = make_data(X, 8)\n",
    "X_poly[:, 1:], mu, sigma = normalizar(X_poly[:, 1:])\n",
    "Thetas = np.ones(X_poly.shape[1])\n",
    "\n",
    "# Regresión lineal\n",
    "result = opt.fmin_tnc(func=cost_reg, x0=Thetas, fprime=gradient_reg, args=(X_poly, y, 0))"
   ]
  },
  {
   "cell_type": "code",
   "execution_count": 17,
   "metadata": {},
   "outputs": [],
   "source": [
    "# Predicciones sobre nuevos valores de x\n",
    "X_evaluate = np.arange(X.min() - 4, X.max() + 4, 0.05)\n",
    "X_evaluate = X_evaluate.reshape(-1, 1)\n",
    "X_evaluate_poly = make_data(X_evaluate, 8)\n",
    "X_evaluate_poly[:, 1:] = (X_evaluate_poly[:, 1:] - mu)/sigma"
   ]
  },
  {
   "cell_type": "code",
   "execution_count": 18,
   "metadata": {},
   "outputs": [
    {
     "data": {
      "image/png": "[encoded data removed]",
      "text/plain": [
       "<Figure size 432x288 with 1 Axes>"
      ]
     },
     "metadata": {
      "needs_background": "light"
     },
     "output_type": "display_data"
    }
   ],
   "source": [
    "# Pintado de las gráficas\n",
    "draw_graph(X, y, X_evaluate, X_evaluate_poly)"
   ]
  },
  {
   "cell_type": "markdown",
   "metadata": {},
   "source": [
    "### Curvas de aprendizaje"
   ]
  },
  {
   "cell_type": "code",
   "execution_count": 21,
   "metadata": {},
   "outputs": [],
   "source": [
    "Lambda = 0\n",
    "\n",
    "#X_poly = make_data(X, 8)\n",
    "#X_poly[:, 1:], mu, sigma = normalizar(X_poly[:, 1:])\n",
    "X_poly = make_data(X, 8)\n",
    "X_poly, mu, sigma = normalizar(X_poly)\n",
    "X_poly[:,0] += 1\n",
    "\n",
    "#Xval_poly = make_data(X, 8)\n",
    "#Xval_poly[:, 1:], mu, sigma = normalizar(Xval_poly[:, 1:])\n",
    "Xval_poly = make_data(Xval, 8)\n",
    "Xval_poly = normalizar(Xval_poly)[0]\n",
    "Xval_poly[:,0] += 1\n",
    "\n",
    "ejeX = np.arange(1, X_poly.shape[0], 1)\n",
    "\n",
    "#erroresX = np.zeros((X_poly.shape[0],))\n",
    "#erroresXval = np.zeros((X_poly.shape[0],))\n",
    "erroresX = np.zeros(X_poly.shape[0]-1)\n",
    "erroresXval = np.zeros(X_poly.shape[0]-1)\n",
    "\n",
    "for i in range(1, X_poly.shape[0]):\n",
    "    #ejemplaresX = np.hstack([np.ones((i, 1)),X_poly[0:i]])\n",
    "    ejemplaresX = X_poly[0:i]\n",
    "    ejemplaresy = y[0:i]\n",
    "\n",
    "    result = opt.fmin_tnc(func=cost_reg, x0=Thetas, fprime=gradient_reg, args=(ejemplaresX, ejemplaresy, Lambda))\n",
    "    erroresX[i-1] = cost_reg(result[0], ejemplaresX, ejemplaresy,Lambda)\n",
    "    erroresXval[i-1] = cost_reg(result[0], Xval_poly, yval,Lambda)"
   ]
  },
  {
   "cell_type": "code",
   "execution_count": 22,
   "metadata": {},
   "outputs": [
    {
     "data": {
      "text/plain": [
       "Text(0, 0.5, 'Error')"
      ]
     },
     "execution_count": 22,
     "metadata": {},
     "output_type": "execute_result"
    },
    {
     "data": {
      "image/png": "[encoded data removed]",
      "text/plain": [
       "<Figure size 432x288 with 1 Axes>"
      ]
     },
     "metadata": {
      "needs_background": "light"
     },
     "output_type": "display_data"
    }
   ],
   "source": [
    "ejeX = range(0, X.shape[0])\n",
    "plt.plot(ejeX[1:], erroresX, 'b', label = \"Entrenamiento\")\n",
    "plt.plot(ejeX[1:], erroresXval, 'orange', label = \"Validacion\")\n",
    "plt.xlabel(\"Cantidad de ejemplos de entrenamiento\")\n",
    "plt.ylabel(\"Error\")"
   ]
  },
  {
   "cell_type": "code",
   "execution_count": null,
   "metadata": {},
   "outputs": [],
   "source": []
  }
 ],
 "metadata": {
  "kernelspec": {
   "display_name": "Python 3",
   "language": "python",
   "name": "python3"
  },
  "language_info": {
   "codemirror_mode": {
    "name": "ipython",
    "version": 3
   },
   "file_extension": ".py",
   "mimetype": "text/x-python",
   "name": "python",
   "nbconvert_exporter": "python",
   "pygments_lexer": "ipython3",
   "version": "3.8.5"
  }
 },
 "nbformat": 4,
 "nbformat_minor": 4
}
